{
 "cells": [
  {
   "cell_type": "markdown",
   "id": "d272e768",
   "metadata": {},
   "source": [
    "# Business Case\n",
    "\n",
    "\n",
    "\n",
    "#### FicZon Inc is an IT solution provider with products ranging from on-premises products to SAAS based solutions. FicZon major leads generation channel is digital and through their website.\n",
    "#### FicZon business is majorly dependent on the sales force effectiveness. As the market is maturing and more new competitors entering the market, FicZon is experiencing the dip in sales.\n",
    "#### Effective sales is dependent on lead quality and as of now, this is based on manual categorization and highly depended on sales staff. Though there is a quality process, which continuously updates the lead categorization, it’s value is in for post analysis, rather than conversation.\n",
    "#### FicZon wants to explore Machine Learning to pre-categorize the lead quality and as result, expecting significant increase in sales effectiveness.\n",
    "\n"
   ]
  },
  {
   "cell_type": "markdown",
   "id": "a9f01a07",
   "metadata": {},
   "source": [
    "# PROJECT GOAL: \n",
    "#### 1. Data exploration insights – Sales effectiveness.\n",
    "#### 2. ML model to predict the Lead Category (High Potential , Low Potential)\n"
   ]
  },
  {
   "cell_type": "code",
   "execution_count": 1,
   "id": "23468b46",
   "metadata": {},
   "outputs": [],
   "source": [
    "import pandas as pd\n",
    "import numpy as np\n",
    "import matplotlib.pyplot as plt\n",
    "%matplotlib inline\n",
    "import seaborn as sns\n",
    "import warnings\n",
    "warnings.filterwarnings('ignore')"
   ]
  },
  {
   "cell_type": "code",
   "execution_count": 3,
   "id": "378379fd",
   "metadata": {},
   "outputs": [
    {
     "data": {
      "text/html": [
       "<div>\n",
       "<style scoped>\n",
       "    .dataframe tbody tr th:only-of-type {\n",
       "        vertical-align: middle;\n",
       "    }\n",
       "\n",
       "    .dataframe tbody tr th {\n",
       "        vertical-align: top;\n",
       "    }\n",
       "\n",
       "    .dataframe thead th {\n",
       "        text-align: right;\n",
       "    }\n",
       "</style>\n",
       "<table border=\"1\" class=\"dataframe\">\n",
       "  <thead>\n",
       "    <tr style=\"text-align: right;\">\n",
       "      <th></th>\n",
       "      <th>Created</th>\n",
       "      <th>Product_ID</th>\n",
       "      <th>Source</th>\n",
       "      <th>Mobile</th>\n",
       "      <th>EMAIL</th>\n",
       "      <th>Sales_Agent</th>\n",
       "      <th>Location</th>\n",
       "      <th>Delivery_Mode</th>\n",
       "      <th>Status</th>\n",
       "    </tr>\n",
       "  </thead>\n",
       "  <tbody>\n",
       "    <tr>\n",
       "      <th>0</th>\n",
       "      <td>14-11-2018 10:05</td>\n",
       "      <td>NaN</td>\n",
       "      <td>Website</td>\n",
       "      <td>984XXXXXXX</td>\n",
       "      <td>aXXXXXXX@gmail.com</td>\n",
       "      <td>Sales-Agent-11</td>\n",
       "      <td>NaN</td>\n",
       "      <td>Mode-5</td>\n",
       "      <td>Open</td>\n",
       "    </tr>\n",
       "    <tr>\n",
       "      <th>1</th>\n",
       "      <td>14-11-2018 09:22</td>\n",
       "      <td>NaN</td>\n",
       "      <td>Website</td>\n",
       "      <td>XXXXXXX</td>\n",
       "      <td>#VALUE!</td>\n",
       "      <td>Sales-Agent-10</td>\n",
       "      <td>NaN</td>\n",
       "      <td>Mode-5</td>\n",
       "      <td>Open</td>\n",
       "    </tr>\n",
       "    <tr>\n",
       "      <th>2</th>\n",
       "      <td>14-11-2018 09:21</td>\n",
       "      <td>NaN</td>\n",
       "      <td>Website</td>\n",
       "      <td>XXXXXXX</td>\n",
       "      <td>dXXXXXXX@yahoo.com</td>\n",
       "      <td>Sales-Agent-10</td>\n",
       "      <td>NaN</td>\n",
       "      <td>Mode-5</td>\n",
       "      <td>Open</td>\n",
       "    </tr>\n",
       "    <tr>\n",
       "      <th>3</th>\n",
       "      <td>14-11-2018 08:46</td>\n",
       "      <td>NaN</td>\n",
       "      <td>Website</td>\n",
       "      <td>XXXXXXX</td>\n",
       "      <td>wXXXXXXX@gmail.com</td>\n",
       "      <td>Sales-Agent-10</td>\n",
       "      <td>NaN</td>\n",
       "      <td>Mode-5</td>\n",
       "      <td>Open</td>\n",
       "    </tr>\n",
       "    <tr>\n",
       "      <th>4</th>\n",
       "      <td>14-11-2018 07:34</td>\n",
       "      <td>NaN</td>\n",
       "      <td>Website</td>\n",
       "      <td>XXXXXXX</td>\n",
       "      <td>cXXXXXXX@gmail.com</td>\n",
       "      <td>Sales-Agent-10</td>\n",
       "      <td>NaN</td>\n",
       "      <td>Mode-5</td>\n",
       "      <td>Open</td>\n",
       "    </tr>\n",
       "    <tr>\n",
       "      <th>...</th>\n",
       "      <td>...</td>\n",
       "      <td>...</td>\n",
       "      <td>...</td>\n",
       "      <td>...</td>\n",
       "      <td>...</td>\n",
       "      <td>...</td>\n",
       "      <td>...</td>\n",
       "      <td>...</td>\n",
       "      <td>...</td>\n",
       "    </tr>\n",
       "    <tr>\n",
       "      <th>7417</th>\n",
       "      <td>28-04-2018 09:45</td>\n",
       "      <td>9.0</td>\n",
       "      <td>Call</td>\n",
       "      <td>NaN</td>\n",
       "      <td>aXXXXXXX@gmail.com</td>\n",
       "      <td>Sales-Agent-6</td>\n",
       "      <td>Mumbai</td>\n",
       "      <td>Mode-4</td>\n",
       "      <td>LOST</td>\n",
       "    </tr>\n",
       "    <tr>\n",
       "      <th>7418</th>\n",
       "      <td>28-04-2018 09:43</td>\n",
       "      <td>15.0</td>\n",
       "      <td>Call</td>\n",
       "      <td>NaN</td>\n",
       "      <td>#VALUE!</td>\n",
       "      <td>Sales-Agent-12</td>\n",
       "      <td>Other Locations</td>\n",
       "      <td>Mode-5</td>\n",
       "      <td>LOST</td>\n",
       "    </tr>\n",
       "    <tr>\n",
       "      <th>7419</th>\n",
       "      <td>28-04-2018 09:20</td>\n",
       "      <td>5.0</td>\n",
       "      <td>Live Chat-Direct</td>\n",
       "      <td>NaN</td>\n",
       "      <td>sXXXXXXX@gmail.com</td>\n",
       "      <td>Sales-Agent-11</td>\n",
       "      <td>Bangalore</td>\n",
       "      <td>Mode-1</td>\n",
       "      <td>Not Responding</td>\n",
       "    </tr>\n",
       "    <tr>\n",
       "      <th>7420</th>\n",
       "      <td>28-04-2018 08:04</td>\n",
       "      <td>21.0</td>\n",
       "      <td>CRM form</td>\n",
       "      <td>NaN</td>\n",
       "      <td>YXXXXXXX@gmail.com</td>\n",
       "      <td>Sales-Agent-4</td>\n",
       "      <td>Other Locations</td>\n",
       "      <td>Mode-1</td>\n",
       "      <td>Just Enquiry</td>\n",
       "    </tr>\n",
       "    <tr>\n",
       "      <th>7421</th>\n",
       "      <td>28-04-2018 07:54</td>\n",
       "      <td>25.0</td>\n",
       "      <td>Website</td>\n",
       "      <td>NaN</td>\n",
       "      <td>cXXXXXXX@gmail.com</td>\n",
       "      <td>Sales-Agent-3</td>\n",
       "      <td>Chennai</td>\n",
       "      <td>Mode-1</td>\n",
       "      <td>CONVERTED</td>\n",
       "    </tr>\n",
       "  </tbody>\n",
       "</table>\n",
       "<p>7422 rows × 9 columns</p>\n",
       "</div>"
      ],
      "text/plain": [
       "               Created  Product_ID            Source      Mobile  \\\n",
       "0     14-11-2018 10:05         NaN           Website  984XXXXXXX   \n",
       "1     14-11-2018 09:22         NaN           Website     XXXXXXX   \n",
       "2     14-11-2018 09:21         NaN           Website     XXXXXXX   \n",
       "3     14-11-2018 08:46         NaN           Website     XXXXXXX   \n",
       "4     14-11-2018 07:34         NaN           Website     XXXXXXX   \n",
       "...                ...         ...               ...         ...   \n",
       "7417  28-04-2018 09:45         9.0              Call         NaN   \n",
       "7418  28-04-2018 09:43        15.0              Call         NaN   \n",
       "7419  28-04-2018 09:20         5.0  Live Chat-Direct         NaN   \n",
       "7420  28-04-2018 08:04        21.0          CRM form         NaN   \n",
       "7421  28-04-2018 07:54        25.0           Website         NaN   \n",
       "\n",
       "                   EMAIL     Sales_Agent         Location Delivery_Mode  \\\n",
       "0     aXXXXXXX@gmail.com  Sales-Agent-11              NaN        Mode-5   \n",
       "1                #VALUE!  Sales-Agent-10              NaN        Mode-5   \n",
       "2     dXXXXXXX@yahoo.com  Sales-Agent-10              NaN        Mode-5   \n",
       "3     wXXXXXXX@gmail.com  Sales-Agent-10              NaN        Mode-5   \n",
       "4     cXXXXXXX@gmail.com  Sales-Agent-10              NaN        Mode-5   \n",
       "...                  ...             ...              ...           ...   \n",
       "7417  aXXXXXXX@gmail.com   Sales-Agent-6           Mumbai        Mode-4   \n",
       "7418             #VALUE!  Sales-Agent-12  Other Locations        Mode-5   \n",
       "7419  sXXXXXXX@gmail.com  Sales-Agent-11        Bangalore        Mode-1   \n",
       "7420  YXXXXXXX@gmail.com   Sales-Agent-4  Other Locations        Mode-1   \n",
       "7421  cXXXXXXX@gmail.com   Sales-Agent-3          Chennai        Mode-1   \n",
       "\n",
       "              Status  \n",
       "0               Open  \n",
       "1               Open  \n",
       "2               Open  \n",
       "3               Open  \n",
       "4               Open  \n",
       "...              ...  \n",
       "7417            LOST  \n",
       "7418            LOST  \n",
       "7419  Not Responding  \n",
       "7420    Just Enquiry  \n",
       "7421       CONVERTED  \n",
       "\n",
       "[7422 rows x 9 columns]"
      ]
     },
     "execution_count": 3,
     "metadata": {},
     "output_type": "execute_result"
    }
   ],
   "source": [
    "data= pd.read_csv('client_data.csv', encoding_errors='replace', on_bad_lines='skip')\n",
    "data"
   ]
  },
  {
   "cell_type": "markdown",
   "id": "be97e590",
   "metadata": {},
   "source": [
    "# Domain Analysis"
   ]
  },
  {
   "cell_type": "raw",
   "id": "3a22051b",
   "metadata": {},
   "source": [
    "Created: The date and time when the sales transcation take place.\n",
    "Product ID: Its the identification number of the company's product\n",
    "Source: Communication channel to the customers for lead generation.\n",
    "Mobile: The mobile number of the customers.\n",
    "Email: The email id of the customers\n",
    "Sales Agent: the medium that connects the company with the customers.\n",
    "Location: The location of the customers.\n",
    "Delivery Mode: The way how the product was delivered to the customers.\n",
    "Status: The status of the product deal."
   ]
  },
  {
   "cell_type": "markdown",
   "id": "e0f8593a",
   "metadata": {},
   "source": [
    "# Basic Checks"
   ]
  },
  {
   "cell_type": "code",
   "execution_count": 14,
   "id": "b916aea7",
   "metadata": {},
   "outputs": [
    {
     "data": {
      "text/html": [
       "<div>\n",
       "<style scoped>\n",
       "    .dataframe tbody tr th:only-of-type {\n",
       "        vertical-align: middle;\n",
       "    }\n",
       "\n",
       "    .dataframe tbody tr th {\n",
       "        vertical-align: top;\n",
       "    }\n",
       "\n",
       "    .dataframe thead th {\n",
       "        text-align: right;\n",
       "    }\n",
       "</style>\n",
       "<table border=\"1\" class=\"dataframe\">\n",
       "  <thead>\n",
       "    <tr style=\"text-align: right;\">\n",
       "      <th></th>\n",
       "      <th>Created</th>\n",
       "      <th>Product_ID</th>\n",
       "      <th>Source</th>\n",
       "      <th>Mobile</th>\n",
       "      <th>EMAIL</th>\n",
       "      <th>Sales_Agent</th>\n",
       "      <th>Location</th>\n",
       "      <th>Delivery_Mode</th>\n",
       "      <th>Status</th>\n",
       "    </tr>\n",
       "  </thead>\n",
       "  <tbody>\n",
       "    <tr>\n",
       "      <th>0</th>\n",
       "      <td>14-11-2018 10:05</td>\n",
       "      <td>NaN</td>\n",
       "      <td>Website</td>\n",
       "      <td>984XXXXXXX</td>\n",
       "      <td>aXXXXXXX@gmail.com</td>\n",
       "      <td>Sales-Agent-11</td>\n",
       "      <td>NaN</td>\n",
       "      <td>Mode-5</td>\n",
       "      <td>Open</td>\n",
       "    </tr>\n",
       "    <tr>\n",
       "      <th>1</th>\n",
       "      <td>14-11-2018 09:22</td>\n",
       "      <td>NaN</td>\n",
       "      <td>Website</td>\n",
       "      <td>XXXXXXX</td>\n",
       "      <td>#VALUE!</td>\n",
       "      <td>Sales-Agent-10</td>\n",
       "      <td>NaN</td>\n",
       "      <td>Mode-5</td>\n",
       "      <td>Open</td>\n",
       "    </tr>\n",
       "    <tr>\n",
       "      <th>2</th>\n",
       "      <td>14-11-2018 09:21</td>\n",
       "      <td>NaN</td>\n",
       "      <td>Website</td>\n",
       "      <td>XXXXXXX</td>\n",
       "      <td>dXXXXXXX@yahoo.com</td>\n",
       "      <td>Sales-Agent-10</td>\n",
       "      <td>NaN</td>\n",
       "      <td>Mode-5</td>\n",
       "      <td>Open</td>\n",
       "    </tr>\n",
       "    <tr>\n",
       "      <th>3</th>\n",
       "      <td>14-11-2018 08:46</td>\n",
       "      <td>NaN</td>\n",
       "      <td>Website</td>\n",
       "      <td>XXXXXXX</td>\n",
       "      <td>wXXXXXXX@gmail.com</td>\n",
       "      <td>Sales-Agent-10</td>\n",
       "      <td>NaN</td>\n",
       "      <td>Mode-5</td>\n",
       "      <td>Open</td>\n",
       "    </tr>\n",
       "    <tr>\n",
       "      <th>4</th>\n",
       "      <td>14-11-2018 07:34</td>\n",
       "      <td>NaN</td>\n",
       "      <td>Website</td>\n",
       "      <td>XXXXXXX</td>\n",
       "      <td>cXXXXXXX@gmail.com</td>\n",
       "      <td>Sales-Agent-10</td>\n",
       "      <td>NaN</td>\n",
       "      <td>Mode-5</td>\n",
       "      <td>Open</td>\n",
       "    </tr>\n",
       "  </tbody>\n",
       "</table>\n",
       "</div>"
      ],
      "text/plain": [
       "            Created  Product_ID   Source      Mobile               EMAIL  \\\n",
       "0  14-11-2018 10:05         NaN  Website  984XXXXXXX  aXXXXXXX@gmail.com   \n",
       "1  14-11-2018 09:22         NaN  Website     XXXXXXX             #VALUE!   \n",
       "2  14-11-2018 09:21         NaN  Website     XXXXXXX  dXXXXXXX@yahoo.com   \n",
       "3  14-11-2018 08:46         NaN  Website     XXXXXXX  wXXXXXXX@gmail.com   \n",
       "4  14-11-2018 07:34         NaN  Website     XXXXXXX  cXXXXXXX@gmail.com   \n",
       "\n",
       "      Sales_Agent Location Delivery_Mode Status  \n",
       "0  Sales-Agent-11      NaN        Mode-5   Open  \n",
       "1  Sales-Agent-10      NaN        Mode-5   Open  \n",
       "2  Sales-Agent-10      NaN        Mode-5   Open  \n",
       "3  Sales-Agent-10      NaN        Mode-5   Open  \n",
       "4  Sales-Agent-10      NaN        Mode-5   Open  "
      ]
     },
     "execution_count": 14,
     "metadata": {},
     "output_type": "execute_result"
    }
   ],
   "source": [
    "data.head()"
   ]
  },
  {
   "cell_type": "code",
   "execution_count": 15,
   "id": "dfa56106",
   "metadata": {},
   "outputs": [
    {
     "name": "stdout",
     "output_type": "stream",
     "text": [
      "<class 'pandas.core.frame.DataFrame'>\n",
      "RangeIndex: 7422 entries, 0 to 7421\n",
      "Data columns (total 9 columns):\n",
      " #   Column         Non-Null Count  Dtype  \n",
      "---  ------         --------------  -----  \n",
      " 0   Created        7422 non-null   object \n",
      " 1   Product_ID     7364 non-null   float64\n",
      " 2   Source         7405 non-null   object \n",
      " 3   Mobile         5612 non-null   object \n",
      " 4   EMAIL          7421 non-null   object \n",
      " 5   Sales_Agent    7398 non-null   object \n",
      " 6   Location       7363 non-null   object \n",
      " 7   Delivery_Mode  7421 non-null   object \n",
      " 8   Status         7421 non-null   object \n",
      "dtypes: float64(1), object(8)\n",
      "memory usage: 522.0+ KB\n"
     ]
    }
   ],
   "source": [
    "data.info()"
   ]
  },
  {
   "cell_type": "code",
   "execution_count": 17,
   "id": "7559693d",
   "metadata": {},
   "outputs": [
    {
     "data": {
      "text/plain": [
       "Created             0\n",
       "Product_ID         58\n",
       "Source             17\n",
       "Mobile           1810\n",
       "EMAIL               1\n",
       "Sales_Agent        24\n",
       "Location           59\n",
       "Delivery_Mode       1\n",
       "Status              1\n",
       "dtype: int64"
      ]
     },
     "execution_count": 17,
     "metadata": {},
     "output_type": "execute_result"
    }
   ],
   "source": [
    "data.isnull().sum()"
   ]
  },
  {
   "cell_type": "code",
   "execution_count": 4,
   "id": "1db47eee",
   "metadata": {},
   "outputs": [
    {
     "data": {
      "text/html": [
       "<div>\n",
       "<style scoped>\n",
       "    .dataframe tbody tr th:only-of-type {\n",
       "        vertical-align: middle;\n",
       "    }\n",
       "\n",
       "    .dataframe tbody tr th {\n",
       "        vertical-align: top;\n",
       "    }\n",
       "\n",
       "    .dataframe thead th {\n",
       "        text-align: right;\n",
       "    }\n",
       "</style>\n",
       "<table border=\"1\" class=\"dataframe\">\n",
       "  <thead>\n",
       "    <tr style=\"text-align: right;\">\n",
       "      <th></th>\n",
       "      <th>Created</th>\n",
       "      <th>Product_ID</th>\n",
       "      <th>Source</th>\n",
       "      <th>Mobile</th>\n",
       "      <th>Email</th>\n",
       "      <th>Sales_Agent</th>\n",
       "      <th>Location</th>\n",
       "      <th>Delivery_Mode</th>\n",
       "      <th>Status</th>\n",
       "    </tr>\n",
       "  </thead>\n",
       "  <tbody>\n",
       "    <tr>\n",
       "      <th>0</th>\n",
       "      <td>14-11-2018 10:05</td>\n",
       "      <td>NaN</td>\n",
       "      <td>Website</td>\n",
       "      <td>984XXXXXXX</td>\n",
       "      <td>aXXXXXXX@gmail.com</td>\n",
       "      <td>Sales-Agent-11</td>\n",
       "      <td>NaN</td>\n",
       "      <td>Mode-5</td>\n",
       "      <td>Open</td>\n",
       "    </tr>\n",
       "    <tr>\n",
       "      <th>1</th>\n",
       "      <td>14-11-2018 09:22</td>\n",
       "      <td>NaN</td>\n",
       "      <td>Website</td>\n",
       "      <td>XXXXXXX</td>\n",
       "      <td>#VALUE!</td>\n",
       "      <td>Sales-Agent-10</td>\n",
       "      <td>NaN</td>\n",
       "      <td>Mode-5</td>\n",
       "      <td>Open</td>\n",
       "    </tr>\n",
       "    <tr>\n",
       "      <th>2</th>\n",
       "      <td>14-11-2018 09:21</td>\n",
       "      <td>NaN</td>\n",
       "      <td>Website</td>\n",
       "      <td>XXXXXXX</td>\n",
       "      <td>dXXXXXXX@yahoo.com</td>\n",
       "      <td>Sales-Agent-10</td>\n",
       "      <td>NaN</td>\n",
       "      <td>Mode-5</td>\n",
       "      <td>Open</td>\n",
       "    </tr>\n",
       "    <tr>\n",
       "      <th>3</th>\n",
       "      <td>14-11-2018 08:46</td>\n",
       "      <td>NaN</td>\n",
       "      <td>Website</td>\n",
       "      <td>XXXXXXX</td>\n",
       "      <td>wXXXXXXX@gmail.com</td>\n",
       "      <td>Sales-Agent-10</td>\n",
       "      <td>NaN</td>\n",
       "      <td>Mode-5</td>\n",
       "      <td>Open</td>\n",
       "    </tr>\n",
       "    <tr>\n",
       "      <th>4</th>\n",
       "      <td>14-11-2018 07:34</td>\n",
       "      <td>NaN</td>\n",
       "      <td>Website</td>\n",
       "      <td>XXXXXXX</td>\n",
       "      <td>cXXXXXXX@gmail.com</td>\n",
       "      <td>Sales-Agent-10</td>\n",
       "      <td>NaN</td>\n",
       "      <td>Mode-5</td>\n",
       "      <td>Open</td>\n",
       "    </tr>\n",
       "    <tr>\n",
       "      <th>...</th>\n",
       "      <td>...</td>\n",
       "      <td>...</td>\n",
       "      <td>...</td>\n",
       "      <td>...</td>\n",
       "      <td>...</td>\n",
       "      <td>...</td>\n",
       "      <td>...</td>\n",
       "      <td>...</td>\n",
       "      <td>...</td>\n",
       "    </tr>\n",
       "    <tr>\n",
       "      <th>7417</th>\n",
       "      <td>28-04-2018 09:45</td>\n",
       "      <td>9.0</td>\n",
       "      <td>Call</td>\n",
       "      <td>NaN</td>\n",
       "      <td>aXXXXXXX@gmail.com</td>\n",
       "      <td>Sales-Agent-6</td>\n",
       "      <td>Mumbai</td>\n",
       "      <td>Mode-4</td>\n",
       "      <td>LOST</td>\n",
       "    </tr>\n",
       "    <tr>\n",
       "      <th>7418</th>\n",
       "      <td>28-04-2018 09:43</td>\n",
       "      <td>15.0</td>\n",
       "      <td>Call</td>\n",
       "      <td>NaN</td>\n",
       "      <td>#VALUE!</td>\n",
       "      <td>Sales-Agent-12</td>\n",
       "      <td>Other Locations</td>\n",
       "      <td>Mode-5</td>\n",
       "      <td>LOST</td>\n",
       "    </tr>\n",
       "    <tr>\n",
       "      <th>7419</th>\n",
       "      <td>28-04-2018 09:20</td>\n",
       "      <td>5.0</td>\n",
       "      <td>Live Chat-Direct</td>\n",
       "      <td>NaN</td>\n",
       "      <td>sXXXXXXX@gmail.com</td>\n",
       "      <td>Sales-Agent-11</td>\n",
       "      <td>Bangalore</td>\n",
       "      <td>Mode-1</td>\n",
       "      <td>Not Responding</td>\n",
       "    </tr>\n",
       "    <tr>\n",
       "      <th>7420</th>\n",
       "      <td>28-04-2018 08:04</td>\n",
       "      <td>21.0</td>\n",
       "      <td>CRM form</td>\n",
       "      <td>NaN</td>\n",
       "      <td>YXXXXXXX@gmail.com</td>\n",
       "      <td>Sales-Agent-4</td>\n",
       "      <td>Other Locations</td>\n",
       "      <td>Mode-1</td>\n",
       "      <td>Just Enquiry</td>\n",
       "    </tr>\n",
       "    <tr>\n",
       "      <th>7421</th>\n",
       "      <td>28-04-2018 07:54</td>\n",
       "      <td>25.0</td>\n",
       "      <td>Website</td>\n",
       "      <td>NaN</td>\n",
       "      <td>cXXXXXXX@gmail.com</td>\n",
       "      <td>Sales-Agent-3</td>\n",
       "      <td>Chennai</td>\n",
       "      <td>Mode-1</td>\n",
       "      <td>CONVERTED</td>\n",
       "    </tr>\n",
       "  </tbody>\n",
       "</table>\n",
       "<p>7422 rows × 9 columns</p>\n",
       "</div>"
      ],
      "text/plain": [
       "               Created  Product_ID            Source      Mobile  \\\n",
       "0     14-11-2018 10:05         NaN           Website  984XXXXXXX   \n",
       "1     14-11-2018 09:22         NaN           Website     XXXXXXX   \n",
       "2     14-11-2018 09:21         NaN           Website     XXXXXXX   \n",
       "3     14-11-2018 08:46         NaN           Website     XXXXXXX   \n",
       "4     14-11-2018 07:34         NaN           Website     XXXXXXX   \n",
       "...                ...         ...               ...         ...   \n",
       "7417  28-04-2018 09:45         9.0              Call         NaN   \n",
       "7418  28-04-2018 09:43        15.0              Call         NaN   \n",
       "7419  28-04-2018 09:20         5.0  Live Chat-Direct         NaN   \n",
       "7420  28-04-2018 08:04        21.0          CRM form         NaN   \n",
       "7421  28-04-2018 07:54        25.0           Website         NaN   \n",
       "\n",
       "                   Email     Sales_Agent         Location Delivery_Mode  \\\n",
       "0     aXXXXXXX@gmail.com  Sales-Agent-11              NaN        Mode-5   \n",
       "1                #VALUE!  Sales-Agent-10              NaN        Mode-5   \n",
       "2     dXXXXXXX@yahoo.com  Sales-Agent-10              NaN        Mode-5   \n",
       "3     wXXXXXXX@gmail.com  Sales-Agent-10              NaN        Mode-5   \n",
       "4     cXXXXXXX@gmail.com  Sales-Agent-10              NaN        Mode-5   \n",
       "...                  ...             ...              ...           ...   \n",
       "7417  aXXXXXXX@gmail.com   Sales-Agent-6           Mumbai        Mode-4   \n",
       "7418             #VALUE!  Sales-Agent-12  Other Locations        Mode-5   \n",
       "7419  sXXXXXXX@gmail.com  Sales-Agent-11        Bangalore        Mode-1   \n",
       "7420  YXXXXXXX@gmail.com   Sales-Agent-4  Other Locations        Mode-1   \n",
       "7421  cXXXXXXX@gmail.com   Sales-Agent-3          Chennai        Mode-1   \n",
       "\n",
       "              Status  \n",
       "0               Open  \n",
       "1               Open  \n",
       "2               Open  \n",
       "3               Open  \n",
       "4               Open  \n",
       "...              ...  \n",
       "7417            LOST  \n",
       "7418            LOST  \n",
       "7419  Not Responding  \n",
       "7420    Just Enquiry  \n",
       "7421       CONVERTED  \n",
       "\n",
       "[7422 rows x 9 columns]"
      ]
     },
     "execution_count": 4,
     "metadata": {},
     "output_type": "execute_result"
    }
   ],
   "source": [
    "data.rename(columns={'EMAIL':'Email'}, inplace=True)\n",
    "data"
   ]
  },
  {
   "cell_type": "code",
   "execution_count": 5,
   "id": "08fe947c",
   "metadata": {},
   "outputs": [
    {
     "data": {
      "text/html": [
       "<div>\n",
       "<style scoped>\n",
       "    .dataframe tbody tr th:only-of-type {\n",
       "        vertical-align: middle;\n",
       "    }\n",
       "\n",
       "    .dataframe tbody tr th {\n",
       "        vertical-align: top;\n",
       "    }\n",
       "\n",
       "    .dataframe thead th {\n",
       "        text-align: right;\n",
       "    }\n",
       "</style>\n",
       "<table border=\"1\" class=\"dataframe\">\n",
       "  <thead>\n",
       "    <tr style=\"text-align: right;\">\n",
       "      <th></th>\n",
       "      <th>Product_ID</th>\n",
       "    </tr>\n",
       "  </thead>\n",
       "  <tbody>\n",
       "    <tr>\n",
       "      <th>0</th>\n",
       "      <td>NaN</td>\n",
       "    </tr>\n",
       "    <tr>\n",
       "      <th>1</th>\n",
       "      <td>NaN</td>\n",
       "    </tr>\n",
       "    <tr>\n",
       "      <th>2</th>\n",
       "      <td>NaN</td>\n",
       "    </tr>\n",
       "    <tr>\n",
       "      <th>3</th>\n",
       "      <td>NaN</td>\n",
       "    </tr>\n",
       "    <tr>\n",
       "      <th>4</th>\n",
       "      <td>NaN</td>\n",
       "    </tr>\n",
       "    <tr>\n",
       "      <th>...</th>\n",
       "      <td>...</td>\n",
       "    </tr>\n",
       "    <tr>\n",
       "      <th>7417</th>\n",
       "      <td>9.0</td>\n",
       "    </tr>\n",
       "    <tr>\n",
       "      <th>7418</th>\n",
       "      <td>15.0</td>\n",
       "    </tr>\n",
       "    <tr>\n",
       "      <th>7419</th>\n",
       "      <td>5.0</td>\n",
       "    </tr>\n",
       "    <tr>\n",
       "      <th>7420</th>\n",
       "      <td>21.0</td>\n",
       "    </tr>\n",
       "    <tr>\n",
       "      <th>7421</th>\n",
       "      <td>25.0</td>\n",
       "    </tr>\n",
       "  </tbody>\n",
       "</table>\n",
       "<p>7422 rows × 1 columns</p>\n",
       "</div>"
      ],
      "text/plain": [
       "      Product_ID\n",
       "0            NaN\n",
       "1            NaN\n",
       "2            NaN\n",
       "3            NaN\n",
       "4            NaN\n",
       "...          ...\n",
       "7417         9.0\n",
       "7418        15.0\n",
       "7419         5.0\n",
       "7420        21.0\n",
       "7421        25.0\n",
       "\n",
       "[7422 rows x 1 columns]"
      ]
     },
     "execution_count": 5,
     "metadata": {},
     "output_type": "execute_result"
    }
   ],
   "source": [
    "data_num = data.select_dtypes(exclude='O')\n",
    "data_num"
   ]
  },
  {
   "cell_type": "code",
   "execution_count": 6,
   "id": "cd6530bc",
   "metadata": {},
   "outputs": [
    {
     "data": {
      "text/html": [
       "<div>\n",
       "<style scoped>\n",
       "    .dataframe tbody tr th:only-of-type {\n",
       "        vertical-align: middle;\n",
       "    }\n",
       "\n",
       "    .dataframe tbody tr th {\n",
       "        vertical-align: top;\n",
       "    }\n",
       "\n",
       "    .dataframe thead th {\n",
       "        text-align: right;\n",
       "    }\n",
       "</style>\n",
       "<table border=\"1\" class=\"dataframe\">\n",
       "  <thead>\n",
       "    <tr style=\"text-align: right;\">\n",
       "      <th></th>\n",
       "      <th>Product_ID</th>\n",
       "    </tr>\n",
       "  </thead>\n",
       "  <tbody>\n",
       "    <tr>\n",
       "      <th>count</th>\n",
       "      <td>7364.000000</td>\n",
       "    </tr>\n",
       "    <tr>\n",
       "      <th>mean</th>\n",
       "      <td>15.947311</td>\n",
       "    </tr>\n",
       "    <tr>\n",
       "      <th>std</th>\n",
       "      <td>6.072937</td>\n",
       "    </tr>\n",
       "    <tr>\n",
       "      <th>min</th>\n",
       "      <td>0.000000</td>\n",
       "    </tr>\n",
       "    <tr>\n",
       "      <th>25%</th>\n",
       "      <td>12.000000</td>\n",
       "    </tr>\n",
       "    <tr>\n",
       "      <th>50%</th>\n",
       "      <td>18.000000</td>\n",
       "    </tr>\n",
       "    <tr>\n",
       "      <th>75%</th>\n",
       "      <td>19.000000</td>\n",
       "    </tr>\n",
       "    <tr>\n",
       "      <th>max</th>\n",
       "      <td>28.000000</td>\n",
       "    </tr>\n",
       "  </tbody>\n",
       "</table>\n",
       "</div>"
      ],
      "text/plain": [
       "        Product_ID\n",
       "count  7364.000000\n",
       "mean     15.947311\n",
       "std       6.072937\n",
       "min       0.000000\n",
       "25%      12.000000\n",
       "50%      18.000000\n",
       "75%      19.000000\n",
       "max      28.000000"
      ]
     },
     "execution_count": 6,
     "metadata": {},
     "output_type": "execute_result"
    }
   ],
   "source": [
    "data_num.describe()"
   ]
  },
  {
   "cell_type": "code",
   "execution_count": 7,
   "id": "0bf009a0",
   "metadata": {},
   "outputs": [
    {
     "data": {
      "text/html": [
       "<div>\n",
       "<style scoped>\n",
       "    .dataframe tbody tr th:only-of-type {\n",
       "        vertical-align: middle;\n",
       "    }\n",
       "\n",
       "    .dataframe tbody tr th {\n",
       "        vertical-align: top;\n",
       "    }\n",
       "\n",
       "    .dataframe thead th {\n",
       "        text-align: right;\n",
       "    }\n",
       "</style>\n",
       "<table border=\"1\" class=\"dataframe\">\n",
       "  <thead>\n",
       "    <tr style=\"text-align: right;\">\n",
       "      <th></th>\n",
       "      <th>Created</th>\n",
       "      <th>Source</th>\n",
       "      <th>Mobile</th>\n",
       "      <th>Email</th>\n",
       "      <th>Sales_Agent</th>\n",
       "      <th>Location</th>\n",
       "      <th>Delivery_Mode</th>\n",
       "      <th>Status</th>\n",
       "    </tr>\n",
       "  </thead>\n",
       "  <tbody>\n",
       "    <tr>\n",
       "      <th>0</th>\n",
       "      <td>14-11-2018 10:05</td>\n",
       "      <td>Website</td>\n",
       "      <td>984XXXXXXX</td>\n",
       "      <td>aXXXXXXX@gmail.com</td>\n",
       "      <td>Sales-Agent-11</td>\n",
       "      <td>NaN</td>\n",
       "      <td>Mode-5</td>\n",
       "      <td>Open</td>\n",
       "    </tr>\n",
       "    <tr>\n",
       "      <th>1</th>\n",
       "      <td>14-11-2018 09:22</td>\n",
       "      <td>Website</td>\n",
       "      <td>XXXXXXX</td>\n",
       "      <td>#VALUE!</td>\n",
       "      <td>Sales-Agent-10</td>\n",
       "      <td>NaN</td>\n",
       "      <td>Mode-5</td>\n",
       "      <td>Open</td>\n",
       "    </tr>\n",
       "    <tr>\n",
       "      <th>2</th>\n",
       "      <td>14-11-2018 09:21</td>\n",
       "      <td>Website</td>\n",
       "      <td>XXXXXXX</td>\n",
       "      <td>dXXXXXXX@yahoo.com</td>\n",
       "      <td>Sales-Agent-10</td>\n",
       "      <td>NaN</td>\n",
       "      <td>Mode-5</td>\n",
       "      <td>Open</td>\n",
       "    </tr>\n",
       "    <tr>\n",
       "      <th>3</th>\n",
       "      <td>14-11-2018 08:46</td>\n",
       "      <td>Website</td>\n",
       "      <td>XXXXXXX</td>\n",
       "      <td>wXXXXXXX@gmail.com</td>\n",
       "      <td>Sales-Agent-10</td>\n",
       "      <td>NaN</td>\n",
       "      <td>Mode-5</td>\n",
       "      <td>Open</td>\n",
       "    </tr>\n",
       "    <tr>\n",
       "      <th>4</th>\n",
       "      <td>14-11-2018 07:34</td>\n",
       "      <td>Website</td>\n",
       "      <td>XXXXXXX</td>\n",
       "      <td>cXXXXXXX@gmail.com</td>\n",
       "      <td>Sales-Agent-10</td>\n",
       "      <td>NaN</td>\n",
       "      <td>Mode-5</td>\n",
       "      <td>Open</td>\n",
       "    </tr>\n",
       "    <tr>\n",
       "      <th>...</th>\n",
       "      <td>...</td>\n",
       "      <td>...</td>\n",
       "      <td>...</td>\n",
       "      <td>...</td>\n",
       "      <td>...</td>\n",
       "      <td>...</td>\n",
       "      <td>...</td>\n",
       "      <td>...</td>\n",
       "    </tr>\n",
       "    <tr>\n",
       "      <th>7417</th>\n",
       "      <td>28-04-2018 09:45</td>\n",
       "      <td>Call</td>\n",
       "      <td>NaN</td>\n",
       "      <td>aXXXXXXX@gmail.com</td>\n",
       "      <td>Sales-Agent-6</td>\n",
       "      <td>Mumbai</td>\n",
       "      <td>Mode-4</td>\n",
       "      <td>LOST</td>\n",
       "    </tr>\n",
       "    <tr>\n",
       "      <th>7418</th>\n",
       "      <td>28-04-2018 09:43</td>\n",
       "      <td>Call</td>\n",
       "      <td>NaN</td>\n",
       "      <td>#VALUE!</td>\n",
       "      <td>Sales-Agent-12</td>\n",
       "      <td>Other Locations</td>\n",
       "      <td>Mode-5</td>\n",
       "      <td>LOST</td>\n",
       "    </tr>\n",
       "    <tr>\n",
       "      <th>7419</th>\n",
       "      <td>28-04-2018 09:20</td>\n",
       "      <td>Live Chat-Direct</td>\n",
       "      <td>NaN</td>\n",
       "      <td>sXXXXXXX@gmail.com</td>\n",
       "      <td>Sales-Agent-11</td>\n",
       "      <td>Bangalore</td>\n",
       "      <td>Mode-1</td>\n",
       "      <td>Not Responding</td>\n",
       "    </tr>\n",
       "    <tr>\n",
       "      <th>7420</th>\n",
       "      <td>28-04-2018 08:04</td>\n",
       "      <td>CRM form</td>\n",
       "      <td>NaN</td>\n",
       "      <td>YXXXXXXX@gmail.com</td>\n",
       "      <td>Sales-Agent-4</td>\n",
       "      <td>Other Locations</td>\n",
       "      <td>Mode-1</td>\n",
       "      <td>Just Enquiry</td>\n",
       "    </tr>\n",
       "    <tr>\n",
       "      <th>7421</th>\n",
       "      <td>28-04-2018 07:54</td>\n",
       "      <td>Website</td>\n",
       "      <td>NaN</td>\n",
       "      <td>cXXXXXXX@gmail.com</td>\n",
       "      <td>Sales-Agent-3</td>\n",
       "      <td>Chennai</td>\n",
       "      <td>Mode-1</td>\n",
       "      <td>CONVERTED</td>\n",
       "    </tr>\n",
       "  </tbody>\n",
       "</table>\n",
       "<p>7422 rows × 8 columns</p>\n",
       "</div>"
      ],
      "text/plain": [
       "               Created            Source      Mobile               Email  \\\n",
       "0     14-11-2018 10:05           Website  984XXXXXXX  aXXXXXXX@gmail.com   \n",
       "1     14-11-2018 09:22           Website     XXXXXXX             #VALUE!   \n",
       "2     14-11-2018 09:21           Website     XXXXXXX  dXXXXXXX@yahoo.com   \n",
       "3     14-11-2018 08:46           Website     XXXXXXX  wXXXXXXX@gmail.com   \n",
       "4     14-11-2018 07:34           Website     XXXXXXX  cXXXXXXX@gmail.com   \n",
       "...                ...               ...         ...                 ...   \n",
       "7417  28-04-2018 09:45              Call         NaN  aXXXXXXX@gmail.com   \n",
       "7418  28-04-2018 09:43              Call         NaN             #VALUE!   \n",
       "7419  28-04-2018 09:20  Live Chat-Direct         NaN  sXXXXXXX@gmail.com   \n",
       "7420  28-04-2018 08:04          CRM form         NaN  YXXXXXXX@gmail.com   \n",
       "7421  28-04-2018 07:54           Website         NaN  cXXXXXXX@gmail.com   \n",
       "\n",
       "         Sales_Agent         Location Delivery_Mode          Status  \n",
       "0     Sales-Agent-11              NaN        Mode-5            Open  \n",
       "1     Sales-Agent-10              NaN        Mode-5            Open  \n",
       "2     Sales-Agent-10              NaN        Mode-5            Open  \n",
       "3     Sales-Agent-10              NaN        Mode-5            Open  \n",
       "4     Sales-Agent-10              NaN        Mode-5            Open  \n",
       "...              ...              ...           ...             ...  \n",
       "7417   Sales-Agent-6           Mumbai        Mode-4            LOST  \n",
       "7418  Sales-Agent-12  Other Locations        Mode-5            LOST  \n",
       "7419  Sales-Agent-11        Bangalore        Mode-1  Not Responding  \n",
       "7420   Sales-Agent-4  Other Locations        Mode-1    Just Enquiry  \n",
       "7421   Sales-Agent-3          Chennai        Mode-1       CONVERTED  \n",
       "\n",
       "[7422 rows x 8 columns]"
      ]
     },
     "execution_count": 7,
     "metadata": {},
     "output_type": "execute_result"
    }
   ],
   "source": [
    "data_cat = data.select_dtypes(include='O')\n",
    "data_cat"
   ]
  },
  {
   "cell_type": "code",
   "execution_count": 8,
   "id": "13d27fbe",
   "metadata": {},
   "outputs": [
    {
     "data": {
      "text/html": [
       "<div>\n",
       "<style scoped>\n",
       "    .dataframe tbody tr th:only-of-type {\n",
       "        vertical-align: middle;\n",
       "    }\n",
       "\n",
       "    .dataframe tbody tr th {\n",
       "        vertical-align: top;\n",
       "    }\n",
       "\n",
       "    .dataframe thead th {\n",
       "        text-align: right;\n",
       "    }\n",
       "</style>\n",
       "<table border=\"1\" class=\"dataframe\">\n",
       "  <thead>\n",
       "    <tr style=\"text-align: right;\">\n",
       "      <th></th>\n",
       "      <th>Created</th>\n",
       "      <th>Source</th>\n",
       "      <th>Mobile</th>\n",
       "      <th>Email</th>\n",
       "      <th>Sales_Agent</th>\n",
       "      <th>Location</th>\n",
       "      <th>Delivery_Mode</th>\n",
       "      <th>Status</th>\n",
       "    </tr>\n",
       "  </thead>\n",
       "  <tbody>\n",
       "    <tr>\n",
       "      <th>count</th>\n",
       "      <td>7422</td>\n",
       "      <td>7405</td>\n",
       "      <td>5612</td>\n",
       "      <td>7421</td>\n",
       "      <td>7398</td>\n",
       "      <td>7363</td>\n",
       "      <td>7421</td>\n",
       "      <td>7421</td>\n",
       "    </tr>\n",
       "    <tr>\n",
       "      <th>unique</th>\n",
       "      <td>6752</td>\n",
       "      <td>25</td>\n",
       "      <td>486</td>\n",
       "      <td>882</td>\n",
       "      <td>12</td>\n",
       "      <td>17</td>\n",
       "      <td>5</td>\n",
       "      <td>11</td>\n",
       "    </tr>\n",
       "    <tr>\n",
       "      <th>top</th>\n",
       "      <td>26-09-2018 11:30</td>\n",
       "      <td>Call</td>\n",
       "      <td>XXXXXXX</td>\n",
       "      <td>#VALUE!</td>\n",
       "      <td>Sales-Agent-4</td>\n",
       "      <td>Other Locations</td>\n",
       "      <td>Mode-5</td>\n",
       "      <td>Junk Lead</td>\n",
       "    </tr>\n",
       "    <tr>\n",
       "      <th>freq</th>\n",
       "      <td>4</td>\n",
       "      <td>2547</td>\n",
       "      <td>222</td>\n",
       "      <td>1701</td>\n",
       "      <td>1500</td>\n",
       "      <td>2500</td>\n",
       "      <td>2975</td>\n",
       "      <td>1536</td>\n",
       "    </tr>\n",
       "  </tbody>\n",
       "</table>\n",
       "</div>"
      ],
      "text/plain": [
       "                 Created Source   Mobile    Email    Sales_Agent  \\\n",
       "count               7422   7405     5612     7421           7398   \n",
       "unique              6752     25      486      882             12   \n",
       "top     26-09-2018 11:30   Call  XXXXXXX  #VALUE!  Sales-Agent-4   \n",
       "freq                   4   2547      222     1701           1500   \n",
       "\n",
       "               Location Delivery_Mode     Status  \n",
       "count              7363          7421       7421  \n",
       "unique               17             5         11  \n",
       "top     Other Locations        Mode-5  Junk Lead  \n",
       "freq               2500          2975       1536  "
      ]
     },
     "execution_count": 8,
     "metadata": {},
     "output_type": "execute_result"
    }
   ],
   "source": [
    "data_cat.describe()"
   ]
  },
  {
   "cell_type": "code",
   "execution_count": 24,
   "id": "4c2d4f8e",
   "metadata": {},
   "outputs": [
    {
     "data": {
      "text/plain": [
       "(7422, 9)"
      ]
     },
     "execution_count": 24,
     "metadata": {},
     "output_type": "execute_result"
    }
   ],
   "source": [
    "data.shape"
   ]
  },
  {
   "cell_type": "code",
   "execution_count": null,
   "id": "07f930dd",
   "metadata": {},
   "outputs": [],
   "source": [
    "Insights:\n",
    "    There are 7422 rows and 9 columns.\n",
    "    There is only one numerical variable and rest are categorical variables.\n",
    "    The maximum product id is 28, hence there would be 28 varieties of products.\n",
    "    The maximum lead generation has been done through telephonic calls.\n",
    "    The sales agent 4 has done the maximum contributions.\n",
    "    The top used delivery mode id Mode 5.\n",
    "    The status of most of the products are junk lead."
   ]
  },
  {
   "cell_type": "code",
   "execution_count": 11,
   "id": "3974d939",
   "metadata": {},
   "outputs": [
    {
     "data": {
      "text/plain": [
       "26-09-2018 11:30    4\n",
       "27-09-2018 11:00    4\n",
       "10-05-2018 12:30    4\n",
       "15-10-2018 10:36    4\n",
       "14-09-2018 12:00    4\n",
       "                   ..\n",
       "29-08-2018 12:52    1\n",
       "29-08-2018 13:08    1\n",
       "29-08-2018 15:26    1\n",
       "29-08-2018 15:39    1\n",
       "28-04-2018 07:54    1\n",
       "Name: Created, Length: 6752, dtype: int64"
      ]
     },
     "execution_count": 11,
     "metadata": {},
     "output_type": "execute_result"
    }
   ],
   "source": [
    "data.Created.value_counts()"
   ]
  },
  {
   "cell_type": "code",
   "execution_count": 10,
   "id": "2050a004",
   "metadata": {},
   "outputs": [
    {
     "data": {
      "text/plain": [
       "18.0    1711\n",
       "15.0    1518\n",
       "19.0    1189\n",
       "9.0      992\n",
       "27.0     739\n",
       "5.0      487\n",
       "10.0     168\n",
       "1.0      105\n",
       "20.0     102\n",
       "25.0      90\n",
       "21.0      66\n",
       "2.0       38\n",
       "12.0      36\n",
       "26.0      31\n",
       "14.0      27\n",
       "11.0      12\n",
       "22.0       8\n",
       "3.0        7\n",
       "17.0       7\n",
       "6.0        7\n",
       "8.0        6\n",
       "13.0       5\n",
       "24.0       3\n",
       "16.0       3\n",
       "23.0       2\n",
       "0.0        2\n",
       "28.0       1\n",
       "7.0        1\n",
       "4.0        1\n",
       "Name: Product_ID, dtype: int64"
      ]
     },
     "execution_count": 10,
     "metadata": {},
     "output_type": "execute_result"
    }
   ],
   "source": [
    "data.Product_ID.value_counts()"
   ]
  },
  {
   "cell_type": "code",
   "execution_count": 5,
   "id": "b17667b7",
   "metadata": {},
   "outputs": [
    {
     "data": {
      "text/html": [
       "<div>\n",
       "<style scoped>\n",
       "    .dataframe tbody tr th:only-of-type {\n",
       "        vertical-align: middle;\n",
       "    }\n",
       "\n",
       "    .dataframe tbody tr th {\n",
       "        vertical-align: top;\n",
       "    }\n",
       "\n",
       "    .dataframe thead th {\n",
       "        text-align: right;\n",
       "    }\n",
       "</style>\n",
       "<table border=\"1\" class=\"dataframe\">\n",
       "  <thead>\n",
       "    <tr style=\"text-align: right;\">\n",
       "      <th></th>\n",
       "      <th>Product_ID</th>\n",
       "      <th>Source</th>\n",
       "      <th>Sales_Agent</th>\n",
       "      <th>Location</th>\n",
       "      <th>Delivery_Mode</th>\n",
       "      <th>Status</th>\n",
       "    </tr>\n",
       "  </thead>\n",
       "  <tbody>\n",
       "    <tr>\n",
       "      <th>0</th>\n",
       "      <td>NaN</td>\n",
       "      <td>Website</td>\n",
       "      <td>Sales-Agent-11</td>\n",
       "      <td>NaN</td>\n",
       "      <td>Mode-5</td>\n",
       "      <td>Open</td>\n",
       "    </tr>\n",
       "    <tr>\n",
       "      <th>1</th>\n",
       "      <td>NaN</td>\n",
       "      <td>Website</td>\n",
       "      <td>Sales-Agent-10</td>\n",
       "      <td>NaN</td>\n",
       "      <td>Mode-5</td>\n",
       "      <td>Open</td>\n",
       "    </tr>\n",
       "    <tr>\n",
       "      <th>2</th>\n",
       "      <td>NaN</td>\n",
       "      <td>Website</td>\n",
       "      <td>Sales-Agent-10</td>\n",
       "      <td>NaN</td>\n",
       "      <td>Mode-5</td>\n",
       "      <td>Open</td>\n",
       "    </tr>\n",
       "    <tr>\n",
       "      <th>3</th>\n",
       "      <td>NaN</td>\n",
       "      <td>Website</td>\n",
       "      <td>Sales-Agent-10</td>\n",
       "      <td>NaN</td>\n",
       "      <td>Mode-5</td>\n",
       "      <td>Open</td>\n",
       "    </tr>\n",
       "    <tr>\n",
       "      <th>4</th>\n",
       "      <td>NaN</td>\n",
       "      <td>Website</td>\n",
       "      <td>Sales-Agent-10</td>\n",
       "      <td>NaN</td>\n",
       "      <td>Mode-5</td>\n",
       "      <td>Open</td>\n",
       "    </tr>\n",
       "    <tr>\n",
       "      <th>...</th>\n",
       "      <td>...</td>\n",
       "      <td>...</td>\n",
       "      <td>...</td>\n",
       "      <td>...</td>\n",
       "      <td>...</td>\n",
       "      <td>...</td>\n",
       "    </tr>\n",
       "    <tr>\n",
       "      <th>7417</th>\n",
       "      <td>9.0</td>\n",
       "      <td>Call</td>\n",
       "      <td>Sales-Agent-6</td>\n",
       "      <td>Mumbai</td>\n",
       "      <td>Mode-4</td>\n",
       "      <td>LOST</td>\n",
       "    </tr>\n",
       "    <tr>\n",
       "      <th>7418</th>\n",
       "      <td>15.0</td>\n",
       "      <td>Call</td>\n",
       "      <td>Sales-Agent-12</td>\n",
       "      <td>Other Locations</td>\n",
       "      <td>Mode-5</td>\n",
       "      <td>LOST</td>\n",
       "    </tr>\n",
       "    <tr>\n",
       "      <th>7419</th>\n",
       "      <td>5.0</td>\n",
       "      <td>Live Chat-Direct</td>\n",
       "      <td>Sales-Agent-11</td>\n",
       "      <td>Bangalore</td>\n",
       "      <td>Mode-1</td>\n",
       "      <td>Not Responding</td>\n",
       "    </tr>\n",
       "    <tr>\n",
       "      <th>7420</th>\n",
       "      <td>21.0</td>\n",
       "      <td>CRM form</td>\n",
       "      <td>Sales-Agent-4</td>\n",
       "      <td>Other Locations</td>\n",
       "      <td>Mode-1</td>\n",
       "      <td>Just Enquiry</td>\n",
       "    </tr>\n",
       "    <tr>\n",
       "      <th>7421</th>\n",
       "      <td>25.0</td>\n",
       "      <td>Website</td>\n",
       "      <td>Sales-Agent-3</td>\n",
       "      <td>Chennai</td>\n",
       "      <td>Mode-1</td>\n",
       "      <td>CONVERTED</td>\n",
       "    </tr>\n",
       "  </tbody>\n",
       "</table>\n",
       "<p>7422 rows × 6 columns</p>\n",
       "</div>"
      ],
      "text/plain": [
       "      Product_ID            Source     Sales_Agent         Location  \\\n",
       "0            NaN           Website  Sales-Agent-11              NaN   \n",
       "1            NaN           Website  Sales-Agent-10              NaN   \n",
       "2            NaN           Website  Sales-Agent-10              NaN   \n",
       "3            NaN           Website  Sales-Agent-10              NaN   \n",
       "4            NaN           Website  Sales-Agent-10              NaN   \n",
       "...          ...               ...             ...              ...   \n",
       "7417         9.0              Call   Sales-Agent-6           Mumbai   \n",
       "7418        15.0              Call  Sales-Agent-12  Other Locations   \n",
       "7419         5.0  Live Chat-Direct  Sales-Agent-11        Bangalore   \n",
       "7420        21.0          CRM form   Sales-Agent-4  Other Locations   \n",
       "7421        25.0           Website   Sales-Agent-3          Chennai   \n",
       "\n",
       "     Delivery_Mode          Status  \n",
       "0           Mode-5            Open  \n",
       "1           Mode-5            Open  \n",
       "2           Mode-5            Open  \n",
       "3           Mode-5            Open  \n",
       "4           Mode-5            Open  \n",
       "...            ...             ...  \n",
       "7417        Mode-4            LOST  \n",
       "7418        Mode-5            LOST  \n",
       "7419        Mode-1  Not Responding  \n",
       "7420        Mode-1    Just Enquiry  \n",
       "7421        Mode-1       CONVERTED  \n",
       "\n",
       "[7422 rows x 6 columns]"
      ]
     },
     "execution_count": 5,
     "metadata": {},
     "output_type": "execute_result"
    }
   ],
   "source": [
    "# Droping the variables that are not relevant in the analysis\n",
    "# The variables 'created', 'Mobile', 'Email' are unique for every customer hence we remove these varaibles.\n",
    "data.drop(['Created','Mobile','Email'],axis=1, inplace=True)\n",
    "data"
   ]
  },
  {
   "cell_type": "code",
   "execution_count": 20,
   "id": "d497bf12",
   "metadata": {},
   "outputs": [
    {
     "data": {
      "text/plain": [
       "Call                             2547\n",
       "Live Chat-Direct                 1834\n",
       "Website                          1594\n",
       "Live Chat-Google Organic          274\n",
       "Live Chat -PPC                    249\n",
       "Live Chat-Blog                    237\n",
       "Customer Referral                 180\n",
       "US Website                        137\n",
       "Just Dial                          56\n",
       "Existing Client                    51\n",
       "Personal Contact                   50\n",
       "Live Chat-CPC                      50\n",
       "By Recommendation                  32\n",
       "CRM form                           23\n",
       "Existing Customer                  22\n",
       "Live Chat-Google Ads               21\n",
       "Campaign                           19\n",
       "E-mail Campaign                    12\n",
       "Live Chat-Adwords Remarketing       7\n",
       "Live Chat-Quora                     2\n",
       "Other                               2\n",
       "SMS Campaign                        2\n",
       "Live Chat-Youtube                   2\n",
       "E-Mail Message                      1\n",
       "Live Chat-Justdial                  1\n",
       "Name: Source, dtype: int64"
      ]
     },
     "execution_count": 20,
     "metadata": {},
     "output_type": "execute_result"
    }
   ],
   "source": [
    "data.Source.value_counts()"
   ]
  },
  {
   "cell_type": "code",
   "execution_count": 19,
   "id": "e5471e73",
   "metadata": {},
   "outputs": [
    {
     "data": {
      "text/plain": [
       "Sales-Agent-4     1500\n",
       "Sales-Agent-11    1419\n",
       "Sales-Agent-5     1190\n",
       "Sales-Agent-9      879\n",
       "Sales-Agent-3      781\n",
       "Sales-Agent-7      736\n",
       "Sales-Agent-2      389\n",
       "Sales-Agent-12     269\n",
       "Sales-Agent-6      114\n",
       "Sales-Agent-8       68\n",
       "Sales-Agent-10      49\n",
       "Sales-Agent-1        4\n",
       "Name: Sales_Agent, dtype: int64"
      ]
     },
     "execution_count": 19,
     "metadata": {},
     "output_type": "execute_result"
    }
   ],
   "source": [
    "data.Sales_Agent.value_counts()"
   ]
  },
  {
   "cell_type": "code",
   "execution_count": 21,
   "id": "f3b76625",
   "metadata": {},
   "outputs": [
    {
     "data": {
      "text/plain": [
       "Other Locations    2500\n",
       "Bangalore          2084\n",
       "Chennai             908\n",
       "Hyderabad           528\n",
       "Delhi               471\n",
       "Mumbai              402\n",
       "Pune                142\n",
       "UAE                  79\n",
       "Trivandrum           58\n",
       "Kolkata              55\n",
       "USA                  45\n",
       "UK                   41\n",
       "AUSTRALIA            25\n",
       "Singapore            17\n",
       "Malaysia              4\n",
       "EUROPE                3\n",
       "Howrah                1\n",
       "Name: Location, dtype: int64"
      ]
     },
     "execution_count": 21,
     "metadata": {},
     "output_type": "execute_result"
    }
   ],
   "source": [
    "data.Location.value_counts()"
   ]
  },
  {
   "cell_type": "code",
   "execution_count": 22,
   "id": "8c25bbd0",
   "metadata": {},
   "outputs": [
    {
     "data": {
      "text/plain": [
       "Mode-5    2975\n",
       "Mode-1    2626\n",
       "Mode-3    1688\n",
       "Mode-4     121\n",
       "Mode-2      11\n",
       "Name: Delivery_Mode, dtype: int64"
      ]
     },
     "execution_count": 22,
     "metadata": {},
     "output_type": "execute_result"
    }
   ],
   "source": [
    "data.Delivery_Mode.value_counts()"
   ]
  },
  {
   "cell_type": "code",
   "execution_count": 23,
   "id": "a8a2f06b",
   "metadata": {},
   "outputs": [
    {
     "data": {
      "text/plain": [
       "Junk Lead               1536\n",
       "Not Responding          1129\n",
       "CONVERTED                834\n",
       "Just Enquiry             760\n",
       "Potential                707\n",
       "Long Term                646\n",
       "In Progress Positive     643\n",
       "In Progress Negative     626\n",
       "LOST                     440\n",
       "Open                      82\n",
       "converted                 18\n",
       "Name: Status, dtype: int64"
      ]
     },
     "execution_count": 23,
     "metadata": {},
     "output_type": "execute_result"
    }
   ],
   "source": [
    "data.Status.value_counts()"
   ]
  },
  {
   "cell_type": "code",
   "execution_count": 24,
   "id": "a91f1873",
   "metadata": {},
   "outputs": [
    {
     "data": {
      "text/plain": [
       "Product_ID       58\n",
       "Source           17\n",
       "Sales_Agent      24\n",
       "Location         59\n",
       "Delivery_Mode     1\n",
       "Status            1\n",
       "dtype: int64"
      ]
     },
     "execution_count": 24,
     "metadata": {},
     "output_type": "execute_result"
    }
   ],
   "source": [
    "# Handling the missing values\n",
    "data.isnull().sum()"
   ]
  },
  {
   "cell_type": "code",
   "execution_count": 25,
   "id": "b1c91369",
   "metadata": {},
   "outputs": [
    {
     "data": {
      "text/plain": [
       "18.0"
      ]
     },
     "execution_count": 25,
     "metadata": {},
     "output_type": "execute_result"
    }
   ],
   "source": [
    "data['Product_ID'].median()"
   ]
  },
  {
   "cell_type": "code",
   "execution_count": 6,
   "id": "8639373d",
   "metadata": {},
   "outputs": [],
   "source": [
    "data.Product_ID = data.Product_ID.fillna(data['Product_ID'].median())"
   ]
  },
  {
   "cell_type": "code",
   "execution_count": 42,
   "id": "0f3fbbb4",
   "metadata": {},
   "outputs": [
    {
     "data": {
      "text/plain": [
       "0    Call\n",
       "Name: Source, dtype: object"
      ]
     },
     "execution_count": 42,
     "metadata": {},
     "output_type": "execute_result"
    }
   ],
   "source": [
    "data['Source'].mode()"
   ]
  },
  {
   "cell_type": "code",
   "execution_count": 7,
   "id": "aecf1ce4",
   "metadata": {},
   "outputs": [],
   "source": [
    "data['Source']= data['Source'].fillna('Call')"
   ]
  },
  {
   "cell_type": "code",
   "execution_count": 31,
   "id": "20f1e439",
   "metadata": {},
   "outputs": [
    {
     "data": {
      "text/plain": [
       "0    Sales-Agent-4\n",
       "Name: Sales_Agent, dtype: object"
      ]
     },
     "execution_count": 31,
     "metadata": {},
     "output_type": "execute_result"
    }
   ],
   "source": [
    "data.Sales_Agent.mode()"
   ]
  },
  {
   "cell_type": "code",
   "execution_count": 8,
   "id": "004cd8cd",
   "metadata": {},
   "outputs": [],
   "source": [
    "data.Sales_Agent=data.Sales_Agent.fillna('Sales-Agent-4')"
   ]
  },
  {
   "cell_type": "code",
   "execution_count": 33,
   "id": "376ad5cf",
   "metadata": {},
   "outputs": [
    {
     "data": {
      "text/plain": [
       "0    Other Locations\n",
       "Name: Location, dtype: object"
      ]
     },
     "execution_count": 33,
     "metadata": {},
     "output_type": "execute_result"
    }
   ],
   "source": [
    "data.Location.mode()"
   ]
  },
  {
   "cell_type": "code",
   "execution_count": 9,
   "id": "7c9efcce",
   "metadata": {},
   "outputs": [],
   "source": [
    "data.Location=data.Location.fillna('Other Locations')"
   ]
  },
  {
   "cell_type": "code",
   "execution_count": 52,
   "id": "09946c34",
   "metadata": {},
   "outputs": [
    {
     "data": {
      "text/plain": [
       "0    Mode-5\n",
       "Name: Delivery_Mode, dtype: object"
      ]
     },
     "execution_count": 52,
     "metadata": {},
     "output_type": "execute_result"
    }
   ],
   "source": [
    "data.Delivery_Mode.mode()"
   ]
  },
  {
   "cell_type": "code",
   "execution_count": 10,
   "id": "9abd57db",
   "metadata": {},
   "outputs": [],
   "source": [
    "data.Delivery_Mode=data.Delivery_Mode.fillna('Mode-5')"
   ]
  },
  {
   "cell_type": "code",
   "execution_count": 37,
   "id": "4d465c95",
   "metadata": {},
   "outputs": [
    {
     "data": {
      "text/plain": [
       "0    Junk Lead\n",
       "Name: Status, dtype: object"
      ]
     },
     "execution_count": 37,
     "metadata": {},
     "output_type": "execute_result"
    }
   ],
   "source": [
    "data.Status.mode()"
   ]
  },
  {
   "cell_type": "code",
   "execution_count": 11,
   "id": "3537d82f",
   "metadata": {},
   "outputs": [],
   "source": [
    "data.Status=data.Status.fillna('Junk Lead')"
   ]
  },
  {
   "cell_type": "code",
   "execution_count": 102,
   "id": "96c0c3c8",
   "metadata": {},
   "outputs": [
    {
     "data": {
      "text/plain": [
       "Product_ID       0\n",
       "Source           0\n",
       "Sales_Agent      0\n",
       "Location         0\n",
       "Delivery_Mode    0\n",
       "Status           0\n",
       "dtype: int64"
      ]
     },
     "execution_count": 102,
     "metadata": {},
     "output_type": "execute_result"
    }
   ],
   "source": [
    "data.isnull().sum()"
   ]
  },
  {
   "cell_type": "code",
   "execution_count": 12,
   "id": "3c2a843a",
   "metadata": {},
   "outputs": [
    {
     "data": {
      "text/html": [
       "<div>\n",
       "<style scoped>\n",
       "    .dataframe tbody tr th:only-of-type {\n",
       "        vertical-align: middle;\n",
       "    }\n",
       "\n",
       "    .dataframe tbody tr th {\n",
       "        vertical-align: top;\n",
       "    }\n",
       "\n",
       "    .dataframe thead th {\n",
       "        text-align: right;\n",
       "    }\n",
       "</style>\n",
       "<table border=\"1\" class=\"dataframe\">\n",
       "  <thead>\n",
       "    <tr style=\"text-align: right;\">\n",
       "      <th></th>\n",
       "      <th>Product_ID</th>\n",
       "      <th>Source</th>\n",
       "      <th>Sales_Agent</th>\n",
       "      <th>Location</th>\n",
       "      <th>Delivery_Mode</th>\n",
       "      <th>Status</th>\n",
       "    </tr>\n",
       "  </thead>\n",
       "  <tbody>\n",
       "    <tr>\n",
       "      <th>0</th>\n",
       "      <td>18.0</td>\n",
       "      <td>Website</td>\n",
       "      <td>Sales-Agent-11</td>\n",
       "      <td>Other Locations</td>\n",
       "      <td>Mode-5</td>\n",
       "      <td>Open</td>\n",
       "    </tr>\n",
       "    <tr>\n",
       "      <th>1</th>\n",
       "      <td>18.0</td>\n",
       "      <td>Website</td>\n",
       "      <td>Sales-Agent-10</td>\n",
       "      <td>Other Locations</td>\n",
       "      <td>Mode-5</td>\n",
       "      <td>Open</td>\n",
       "    </tr>\n",
       "    <tr>\n",
       "      <th>2</th>\n",
       "      <td>18.0</td>\n",
       "      <td>Website</td>\n",
       "      <td>Sales-Agent-10</td>\n",
       "      <td>Other Locations</td>\n",
       "      <td>Mode-5</td>\n",
       "      <td>Open</td>\n",
       "    </tr>\n",
       "    <tr>\n",
       "      <th>3</th>\n",
       "      <td>18.0</td>\n",
       "      <td>Website</td>\n",
       "      <td>Sales-Agent-10</td>\n",
       "      <td>Other Locations</td>\n",
       "      <td>Mode-5</td>\n",
       "      <td>Open</td>\n",
       "    </tr>\n",
       "    <tr>\n",
       "      <th>4</th>\n",
       "      <td>18.0</td>\n",
       "      <td>Website</td>\n",
       "      <td>Sales-Agent-10</td>\n",
       "      <td>Other Locations</td>\n",
       "      <td>Mode-5</td>\n",
       "      <td>Open</td>\n",
       "    </tr>\n",
       "    <tr>\n",
       "      <th>...</th>\n",
       "      <td>...</td>\n",
       "      <td>...</td>\n",
       "      <td>...</td>\n",
       "      <td>...</td>\n",
       "      <td>...</td>\n",
       "      <td>...</td>\n",
       "    </tr>\n",
       "    <tr>\n",
       "      <th>7417</th>\n",
       "      <td>9.0</td>\n",
       "      <td>Call</td>\n",
       "      <td>Sales-Agent-6</td>\n",
       "      <td>Mumbai</td>\n",
       "      <td>Mode-4</td>\n",
       "      <td>LOST</td>\n",
       "    </tr>\n",
       "    <tr>\n",
       "      <th>7418</th>\n",
       "      <td>15.0</td>\n",
       "      <td>Call</td>\n",
       "      <td>Sales-Agent-12</td>\n",
       "      <td>Other Locations</td>\n",
       "      <td>Mode-5</td>\n",
       "      <td>LOST</td>\n",
       "    </tr>\n",
       "    <tr>\n",
       "      <th>7419</th>\n",
       "      <td>5.0</td>\n",
       "      <td>Live Chat-Direct</td>\n",
       "      <td>Sales-Agent-11</td>\n",
       "      <td>Bangalore</td>\n",
       "      <td>Mode-1</td>\n",
       "      <td>Not Responding</td>\n",
       "    </tr>\n",
       "    <tr>\n",
       "      <th>7420</th>\n",
       "      <td>21.0</td>\n",
       "      <td>CRM form</td>\n",
       "      <td>Sales-Agent-4</td>\n",
       "      <td>Other Locations</td>\n",
       "      <td>Mode-1</td>\n",
       "      <td>Just Enquiry</td>\n",
       "    </tr>\n",
       "    <tr>\n",
       "      <th>7421</th>\n",
       "      <td>25.0</td>\n",
       "      <td>Website</td>\n",
       "      <td>Sales-Agent-3</td>\n",
       "      <td>Chennai</td>\n",
       "      <td>Mode-1</td>\n",
       "      <td>CONVERTED</td>\n",
       "    </tr>\n",
       "  </tbody>\n",
       "</table>\n",
       "<p>7422 rows × 6 columns</p>\n",
       "</div>"
      ],
      "text/plain": [
       "      Product_ID            Source     Sales_Agent         Location  \\\n",
       "0           18.0           Website  Sales-Agent-11  Other Locations   \n",
       "1           18.0           Website  Sales-Agent-10  Other Locations   \n",
       "2           18.0           Website  Sales-Agent-10  Other Locations   \n",
       "3           18.0           Website  Sales-Agent-10  Other Locations   \n",
       "4           18.0           Website  Sales-Agent-10  Other Locations   \n",
       "...          ...               ...             ...              ...   \n",
       "7417         9.0              Call   Sales-Agent-6           Mumbai   \n",
       "7418        15.0              Call  Sales-Agent-12  Other Locations   \n",
       "7419         5.0  Live Chat-Direct  Sales-Agent-11        Bangalore   \n",
       "7420        21.0          CRM form   Sales-Agent-4  Other Locations   \n",
       "7421        25.0           Website   Sales-Agent-3          Chennai   \n",
       "\n",
       "     Delivery_Mode          Status  \n",
       "0           Mode-5            Open  \n",
       "1           Mode-5            Open  \n",
       "2           Mode-5            Open  \n",
       "3           Mode-5            Open  \n",
       "4           Mode-5            Open  \n",
       "...            ...             ...  \n",
       "7417        Mode-4            LOST  \n",
       "7418        Mode-5            LOST  \n",
       "7419        Mode-1  Not Responding  \n",
       "7420        Mode-1    Just Enquiry  \n",
       "7421        Mode-1       CONVERTED  \n",
       "\n",
       "[7422 rows x 6 columns]"
      ]
     },
     "execution_count": 12,
     "metadata": {},
     "output_type": "execute_result"
    }
   ],
   "source": [
    "data"
   ]
  },
  {
   "cell_type": "code",
   "execution_count": 57,
   "id": "368bc33c",
   "metadata": {},
   "outputs": [
    {
     "data": {
      "text/plain": [
       "array(['Website', 'Call', 'Live Chat-Google Organic', 'Live Chat-Direct',\n",
       "       'By Recommendation', 'Customer Referral', 'Live Chat-Blog',\n",
       "       'Live Chat -PPC', 'Live Chat-Google Ads',\n",
       "       'Live Chat-Adwords Remarketing', 'E-Mail Message',\n",
       "       'Existing Client', 'Live Chat-CPC', 'Existing Customer',\n",
       "       'Live Chat-Quora', 'US Website', 'Just Dial', 'Campaign', 'Other',\n",
       "       'E-mail Campaign', 'CRM form', 'SMS Campaign', 'Personal Contact',\n",
       "       'Live Chat-Youtube', 'Live Chat-Justdial'], dtype=object)"
      ]
     },
     "execution_count": 57,
     "metadata": {},
     "output_type": "execute_result"
    }
   ],
   "source": [
    "data.Source.unique()"
   ]
  },
  {
   "cell_type": "code",
   "execution_count": 13,
   "id": "b92bd6cc",
   "metadata": {},
   "outputs": [],
   "source": [
    "# We can combine the features in the source variable in order to reduce the count.\n",
    "data.Source.replace(['Live Chat-Google Organic', 'Live Chat-Direct', 'Live Chat-Blog', 'Live Chat -PPC',\n",
    "                    'Live Chat-Google Ads', 'Live Chat-Adwords Remarketing', 'Live Chat-CPC', 'Live Chat-Quora',\n",
    "                    'Live Chat-Youtube', 'Live Chat-Justdial'], 'Live Chat', inplace=True)\n",
    "data.Source.replace(['US Website', 'Just Dial'], 'Website', inplace=True)\n",
    "data.Source.replace('By Recommendation', 'Customer Referral', inplace=True)\n",
    "data.Source.replace(['E-Mail Message', 'E-mail Campaign','SMS Campaign', 'Other'], 'Campaign', inplace=True)\n",
    "data.Source.replace(['Existing Client', 'CRM form', 'Personal Contact'], 'Existing Customer', inplace=True)"
   ]
  },
  {
   "cell_type": "code",
   "execution_count": 58,
   "id": "50a2e6c6",
   "metadata": {},
   "outputs": [
    {
     "data": {
      "text/plain": [
       "array(['Sales-Agent-11', 'Sales-Agent-10', 'Sales-Agent-3',\n",
       "       'Sales-Agent-4', 'Sales-Agent-9', 'Sales-Agent-7', 'Sales-Agent-8',\n",
       "       'Sales-Agent-5', 'Sales-Agent-2', 'Sales-Agent-12',\n",
       "       'Sales-Agent-1', 'Sales-Agent-6'], dtype=object)"
      ]
     },
     "execution_count": 58,
     "metadata": {},
     "output_type": "execute_result"
    }
   ],
   "source": [
    "data.Sales_Agent.unique()"
   ]
  },
  {
   "cell_type": "code",
   "execution_count": 59,
   "id": "078a1a8f",
   "metadata": {},
   "outputs": [
    {
     "data": {
      "text/plain": [
       "array(['Other Locations', 'Bangalore', 'UAE', 'Trivandrum', 'Hyderabad',\n",
       "       'Chennai', 'UK', 'USA', 'Delhi', 'Mumbai', 'Kolkata', 'Singapore',\n",
       "       'Pune', 'AUSTRALIA', 'EUROPE', 'Malaysia', 'Howrah'], dtype=object)"
      ]
     },
     "execution_count": 59,
     "metadata": {},
     "output_type": "execute_result"
    }
   ],
   "source": [
    "data.Location.unique()"
   ]
  },
  {
   "cell_type": "code",
   "execution_count": 60,
   "id": "7c527d87",
   "metadata": {},
   "outputs": [
    {
     "data": {
      "text/plain": [
       "array(['Mode-5', 'Mode-1', 'Mode-3', 'Mode-2', 'Mode-4'], dtype=object)"
      ]
     },
     "execution_count": 60,
     "metadata": {},
     "output_type": "execute_result"
    }
   ],
   "source": [
    "data.Delivery_Mode.unique()"
   ]
  },
  {
   "cell_type": "code",
   "execution_count": 61,
   "id": "7f3e5ff5",
   "metadata": {},
   "outputs": [
    {
     "data": {
      "text/plain": [
       "array(['Open', 'Potential', 'In Progress Positive', 'Not Responding',\n",
       "       'Just Enquiry', 'Junk Lead', 'CONVERTED', 'In Progress Negative',\n",
       "       'LOST', 'Long Term', 'converted'], dtype=object)"
      ]
     },
     "execution_count": 61,
     "metadata": {},
     "output_type": "execute_result"
    }
   ],
   "source": [
    "data.Status.unique()"
   ]
  },
  {
   "cell_type": "code",
   "execution_count": 14,
   "id": "5af7fac8",
   "metadata": {},
   "outputs": [],
   "source": [
    "data.Status.replace(['Open', 'Potential', 'In Progress Positive', 'CONVERTED', 'Long Term', 'converted'], \n",
    "                    'High Potential', inplace=True)\n",
    "data.Status.replace(['Not Responding', 'Just Enquiry', 'Junk Lead', 'In Progress Negative', 'LOST'],\n",
    "                    'Low Potential', inplace=True)"
   ]
  },
  {
   "cell_type": "code",
   "execution_count": 15,
   "id": "a7684d11",
   "metadata": {},
   "outputs": [
    {
     "data": {
      "text/html": [
       "<div>\n",
       "<style scoped>\n",
       "    .dataframe tbody tr th:only-of-type {\n",
       "        vertical-align: middle;\n",
       "    }\n",
       "\n",
       "    .dataframe tbody tr th {\n",
       "        vertical-align: top;\n",
       "    }\n",
       "\n",
       "    .dataframe thead th {\n",
       "        text-align: right;\n",
       "    }\n",
       "</style>\n",
       "<table border=\"1\" class=\"dataframe\">\n",
       "  <thead>\n",
       "    <tr style=\"text-align: right;\">\n",
       "      <th></th>\n",
       "      <th>Product_ID</th>\n",
       "      <th>Source</th>\n",
       "      <th>Sales_Agent</th>\n",
       "      <th>Location</th>\n",
       "      <th>Delivery_Mode</th>\n",
       "      <th>Status</th>\n",
       "    </tr>\n",
       "  </thead>\n",
       "  <tbody>\n",
       "    <tr>\n",
       "      <th>0</th>\n",
       "      <td>18.0</td>\n",
       "      <td>Website</td>\n",
       "      <td>Sales-Agent-11</td>\n",
       "      <td>Other Locations</td>\n",
       "      <td>Mode-5</td>\n",
       "      <td>High Potential</td>\n",
       "    </tr>\n",
       "    <tr>\n",
       "      <th>1</th>\n",
       "      <td>18.0</td>\n",
       "      <td>Website</td>\n",
       "      <td>Sales-Agent-10</td>\n",
       "      <td>Other Locations</td>\n",
       "      <td>Mode-5</td>\n",
       "      <td>High Potential</td>\n",
       "    </tr>\n",
       "    <tr>\n",
       "      <th>2</th>\n",
       "      <td>18.0</td>\n",
       "      <td>Website</td>\n",
       "      <td>Sales-Agent-10</td>\n",
       "      <td>Other Locations</td>\n",
       "      <td>Mode-5</td>\n",
       "      <td>High Potential</td>\n",
       "    </tr>\n",
       "    <tr>\n",
       "      <th>3</th>\n",
       "      <td>18.0</td>\n",
       "      <td>Website</td>\n",
       "      <td>Sales-Agent-10</td>\n",
       "      <td>Other Locations</td>\n",
       "      <td>Mode-5</td>\n",
       "      <td>High Potential</td>\n",
       "    </tr>\n",
       "    <tr>\n",
       "      <th>4</th>\n",
       "      <td>18.0</td>\n",
       "      <td>Website</td>\n",
       "      <td>Sales-Agent-10</td>\n",
       "      <td>Other Locations</td>\n",
       "      <td>Mode-5</td>\n",
       "      <td>High Potential</td>\n",
       "    </tr>\n",
       "    <tr>\n",
       "      <th>...</th>\n",
       "      <td>...</td>\n",
       "      <td>...</td>\n",
       "      <td>...</td>\n",
       "      <td>...</td>\n",
       "      <td>...</td>\n",
       "      <td>...</td>\n",
       "    </tr>\n",
       "    <tr>\n",
       "      <th>7417</th>\n",
       "      <td>9.0</td>\n",
       "      <td>Call</td>\n",
       "      <td>Sales-Agent-6</td>\n",
       "      <td>Mumbai</td>\n",
       "      <td>Mode-4</td>\n",
       "      <td>Low Potential</td>\n",
       "    </tr>\n",
       "    <tr>\n",
       "      <th>7418</th>\n",
       "      <td>15.0</td>\n",
       "      <td>Call</td>\n",
       "      <td>Sales-Agent-12</td>\n",
       "      <td>Other Locations</td>\n",
       "      <td>Mode-5</td>\n",
       "      <td>Low Potential</td>\n",
       "    </tr>\n",
       "    <tr>\n",
       "      <th>7419</th>\n",
       "      <td>5.0</td>\n",
       "      <td>Live Chat</td>\n",
       "      <td>Sales-Agent-11</td>\n",
       "      <td>Bangalore</td>\n",
       "      <td>Mode-1</td>\n",
       "      <td>Low Potential</td>\n",
       "    </tr>\n",
       "    <tr>\n",
       "      <th>7420</th>\n",
       "      <td>21.0</td>\n",
       "      <td>Existing Customer</td>\n",
       "      <td>Sales-Agent-4</td>\n",
       "      <td>Other Locations</td>\n",
       "      <td>Mode-1</td>\n",
       "      <td>Low Potential</td>\n",
       "    </tr>\n",
       "    <tr>\n",
       "      <th>7421</th>\n",
       "      <td>25.0</td>\n",
       "      <td>Website</td>\n",
       "      <td>Sales-Agent-3</td>\n",
       "      <td>Chennai</td>\n",
       "      <td>Mode-1</td>\n",
       "      <td>High Potential</td>\n",
       "    </tr>\n",
       "  </tbody>\n",
       "</table>\n",
       "<p>7422 rows × 6 columns</p>\n",
       "</div>"
      ],
      "text/plain": [
       "      Product_ID             Source     Sales_Agent         Location  \\\n",
       "0           18.0            Website  Sales-Agent-11  Other Locations   \n",
       "1           18.0            Website  Sales-Agent-10  Other Locations   \n",
       "2           18.0            Website  Sales-Agent-10  Other Locations   \n",
       "3           18.0            Website  Sales-Agent-10  Other Locations   \n",
       "4           18.0            Website  Sales-Agent-10  Other Locations   \n",
       "...          ...                ...             ...              ...   \n",
       "7417         9.0               Call   Sales-Agent-6           Mumbai   \n",
       "7418        15.0               Call  Sales-Agent-12  Other Locations   \n",
       "7419         5.0          Live Chat  Sales-Agent-11        Bangalore   \n",
       "7420        21.0  Existing Customer   Sales-Agent-4  Other Locations   \n",
       "7421        25.0            Website   Sales-Agent-3          Chennai   \n",
       "\n",
       "     Delivery_Mode          Status  \n",
       "0           Mode-5  High Potential  \n",
       "1           Mode-5  High Potential  \n",
       "2           Mode-5  High Potential  \n",
       "3           Mode-5  High Potential  \n",
       "4           Mode-5  High Potential  \n",
       "...            ...             ...  \n",
       "7417        Mode-4   Low Potential  \n",
       "7418        Mode-5   Low Potential  \n",
       "7419        Mode-1   Low Potential  \n",
       "7420        Mode-1   Low Potential  \n",
       "7421        Mode-1  High Potential  \n",
       "\n",
       "[7422 rows x 6 columns]"
      ]
     },
     "execution_count": 15,
     "metadata": {},
     "output_type": "execute_result"
    }
   ],
   "source": [
    "data"
   ]
  },
  {
   "cell_type": "markdown",
   "id": "8ba163c8",
   "metadata": {},
   "source": [
    "# Exploratory Data Analysis"
   ]
  },
  {
   "cell_type": "code",
   "execution_count": 16,
   "id": "f1d1d4a9",
   "metadata": {},
   "outputs": [
    {
     "data": {
      "text/plain": [
       "(array([0, 1, 2, 3, 4, 5]),\n",
       " [Text(0, 0, 'Website'),\n",
       "  Text(1, 0, 'Call'),\n",
       "  Text(2, 0, 'Live Chat'),\n",
       "  Text(3, 0, 'Customer Referral'),\n",
       "  Text(4, 0, 'Campaign'),\n",
       "  Text(5, 0, 'Existing Customer')])"
      ]
     },
     "execution_count": 16,
     "metadata": {},
     "output_type": "execute_result"
    },
    {
     "data": {
      "image/png": "[encoded data removed]",
      "text/plain": [
       "<Figure size 432x288 with 1 Axes>"
      ]
     },
     "metadata": {
      "needs_background": "light"
     },
     "output_type": "display_data"
    }
   ],
   "source": [
    "sns.countplot(x=data.Source)\n",
    "plt.xticks(rotation=90)"
   ]
  },
  {
   "cell_type": "code",
   "execution_count": 17,
   "id": "53ad1b95",
   "metadata": {},
   "outputs": [
    {
     "data": {
      "text/plain": [
       "(array([ 0,  1,  2,  3,  4,  5,  6,  7,  8,  9, 10, 11]),\n",
       " [Text(0, 0, 'Sales-Agent-11'),\n",
       "  Text(1, 0, 'Sales-Agent-10'),\n",
       "  Text(2, 0, 'Sales-Agent-3'),\n",
       "  Text(3, 0, 'Sales-Agent-4'),\n",
       "  Text(4, 0, 'Sales-Agent-9'),\n",
       "  Text(5, 0, 'Sales-Agent-7'),\n",
       "  Text(6, 0, 'Sales-Agent-8'),\n",
       "  Text(7, 0, 'Sales-Agent-5'),\n",
       "  Text(8, 0, 'Sales-Agent-2'),\n",
       "  Text(9, 0, 'Sales-Agent-12'),\n",
       "  Text(10, 0, 'Sales-Agent-1'),\n",
       "  Text(11, 0, 'Sales-Agent-6')])"
      ]
     },
     "execution_count": 17,
     "metadata": {},
     "output_type": "execute_result"
    },
    {
     "data": {
      "image/png": "[encoded data removed]",
      "text/plain": [
       "<Figure size 432x288 with 1 Axes>"
      ]
     },
     "metadata": {
      "needs_background": "light"
     },
     "output_type": "display_data"
    }
   ],
   "source": [
    "sns.countplot(x=data.Sales_Agent)\n",
    "plt.xticks(rotation=90)"
   ]
  },
  {
   "cell_type": "code",
   "execution_count": 18,
   "id": "070e83d3",
   "metadata": {},
   "outputs": [
    {
     "data": {
      "image/png": "[encoded data removed]",
      "text/plain": [
       "<Figure size 432x288 with 1 Axes>"
      ]
     },
     "metadata": {
      "needs_background": "light"
     },
     "output_type": "display_data"
    },
    {
     "data": {
      "image/png": "[encoded data removed]",
      "text/plain": [
       "<Figure size 432x288 with 1 Axes>"
      ]
     },
     "metadata": {
      "needs_background": "light"
     },
     "output_type": "display_data"
    }
   ],
   "source": [
    "sns.countplot(x=data.Location)\n",
    "plt.xticks(rotation=90)\n",
    "plt.show()\n",
    "sns.countplot(x=data.Delivery_Mode)\n",
    "plt.xticks(rotation=90)\n",
    "plt.show()"
   ]
  },
  {
   "cell_type": "code",
   "execution_count": 19,
   "id": "ce7654b3",
   "metadata": {},
   "outputs": [
    {
     "data": {
      "text/plain": [
       "<AxesSubplot:xlabel='Status', ylabel='count'>"
      ]
     },
     "execution_count": 19,
     "metadata": {},
     "output_type": "execute_result"
    },
    {
     "data": {
      "image/png": "[encoded data removed]",
      "text/plain": [
       "<Figure size 432x288 with 1 Axes>"
      ]
     },
     "metadata": {
      "needs_background": "light"
     },
     "output_type": "display_data"
    }
   ],
   "source": [
    "sns.countplot(x=data.Status)"
   ]
  },
  {
   "cell_type": "code",
   "execution_count": 114,
   "id": "9d1e8f3d",
   "metadata": {
    "scrolled": true
   },
   "outputs": [
    {
     "data": {
      "text/plain": [
       "Low Potential     4492\n",
       "High Potential    2930\n",
       "Name: Status, dtype: int64"
      ]
     },
     "execution_count": 114,
     "metadata": {},
     "output_type": "execute_result"
    }
   ],
   "source": [
    "data.Status.value_counts()"
   ]
  },
  {
   "cell_type": "code",
   "execution_count": 20,
   "id": "6e5e6e56",
   "metadata": {},
   "outputs": [
    {
     "data": {
      "image/png": "[encoded data removed]",
      "text/plain": [
       "<Figure size 1440x1440 with 6 Axes>"
      ]
     },
     "metadata": {},
     "output_type": "display_data"
    }
   ],
   "source": [
    "plt.figure(figsize=(20,20), facecolor='white')\n",
    "plotnumber = 1\n",
    "for column in data:\n",
    "    if plotnumber<=6:\n",
    "        ax= plt.subplot(3,3,plotnumber)\n",
    "        sns.countplot(x=data[column], hue=data.Status)\n",
    "        plt.xticks(rotation=90)\n",
    "        plt.xlabel(column)\n",
    "        plt.ylabel('Status')\n",
    "    plotnumber+=1\n",
    "plt.show()"
   ]
  },
  {
   "cell_type": "raw",
   "id": "9eeac00b",
   "metadata": {},
   "source": [
    "Insights:\n",
    "    Most of the lead generation has been done through calls. Most contributions has been done through calls, live chat and websites.\n",
    "    Sales agent 4 have most of the high potential customers and sales agent 9 and 11 respectively.\n",
    "    The delivery mode prefered by most of the customers are Mode 5.\n",
    "    The low potential customers are more in number.\n",
    "    if we divide the locations to India and Foreign countries, majority of the sales are happening in main cities in India. The sales in foreign countries are very less. The focus is more given to local markets."
   ]
  },
  {
   "cell_type": "markdown",
   "id": "318f8ea6",
   "metadata": {},
   "source": [
    "# Data preprocessing"
   ]
  },
  {
   "cell_type": "code",
   "execution_count": 18,
   "id": "0381f645",
   "metadata": {},
   "outputs": [],
   "source": [
    "from sklearn.preprocessing import LabelEncoder\n",
    "le = LabelEncoder()\n",
    "for i in (0,1,2,3,4,5):\n",
    "    data.iloc[:,i]= le.fit_transform(data.iloc[:,i])"
   ]
  },
  {
   "cell_type": "code",
   "execution_count": 19,
   "id": "76e21096",
   "metadata": {},
   "outputs": [
    {
     "data": {
      "text/html": [
       "<div>\n",
       "<style scoped>\n",
       "    .dataframe tbody tr th:only-of-type {\n",
       "        vertical-align: middle;\n",
       "    }\n",
       "\n",
       "    .dataframe tbody tr th {\n",
       "        vertical-align: top;\n",
       "    }\n",
       "\n",
       "    .dataframe thead th {\n",
       "        text-align: right;\n",
       "    }\n",
       "</style>\n",
       "<table border=\"1\" class=\"dataframe\">\n",
       "  <thead>\n",
       "    <tr style=\"text-align: right;\">\n",
       "      <th></th>\n",
       "      <th>Product_ID</th>\n",
       "      <th>Source</th>\n",
       "      <th>Sales_Agent</th>\n",
       "      <th>Location</th>\n",
       "      <th>Delivery_Mode</th>\n",
       "      <th>Status</th>\n",
       "    </tr>\n",
       "  </thead>\n",
       "  <tbody>\n",
       "    <tr>\n",
       "      <th>0</th>\n",
       "      <td>18</td>\n",
       "      <td>5</td>\n",
       "      <td>2</td>\n",
       "      <td>10</td>\n",
       "      <td>4</td>\n",
       "      <td>0</td>\n",
       "    </tr>\n",
       "    <tr>\n",
       "      <th>1</th>\n",
       "      <td>18</td>\n",
       "      <td>5</td>\n",
       "      <td>1</td>\n",
       "      <td>10</td>\n",
       "      <td>4</td>\n",
       "      <td>0</td>\n",
       "    </tr>\n",
       "    <tr>\n",
       "      <th>2</th>\n",
       "      <td>18</td>\n",
       "      <td>5</td>\n",
       "      <td>1</td>\n",
       "      <td>10</td>\n",
       "      <td>4</td>\n",
       "      <td>0</td>\n",
       "    </tr>\n",
       "    <tr>\n",
       "      <th>3</th>\n",
       "      <td>18</td>\n",
       "      <td>5</td>\n",
       "      <td>1</td>\n",
       "      <td>10</td>\n",
       "      <td>4</td>\n",
       "      <td>0</td>\n",
       "    </tr>\n",
       "    <tr>\n",
       "      <th>4</th>\n",
       "      <td>18</td>\n",
       "      <td>5</td>\n",
       "      <td>1</td>\n",
       "      <td>10</td>\n",
       "      <td>4</td>\n",
       "      <td>0</td>\n",
       "    </tr>\n",
       "    <tr>\n",
       "      <th>...</th>\n",
       "      <td>...</td>\n",
       "      <td>...</td>\n",
       "      <td>...</td>\n",
       "      <td>...</td>\n",
       "      <td>...</td>\n",
       "      <td>...</td>\n",
       "    </tr>\n",
       "    <tr>\n",
       "      <th>7417</th>\n",
       "      <td>9</td>\n",
       "      <td>0</td>\n",
       "      <td>8</td>\n",
       "      <td>9</td>\n",
       "      <td>3</td>\n",
       "      <td>1</td>\n",
       "    </tr>\n",
       "    <tr>\n",
       "      <th>7418</th>\n",
       "      <td>15</td>\n",
       "      <td>0</td>\n",
       "      <td>3</td>\n",
       "      <td>10</td>\n",
       "      <td>4</td>\n",
       "      <td>1</td>\n",
       "    </tr>\n",
       "    <tr>\n",
       "      <th>7419</th>\n",
       "      <td>5</td>\n",
       "      <td>4</td>\n",
       "      <td>2</td>\n",
       "      <td>1</td>\n",
       "      <td>0</td>\n",
       "      <td>1</td>\n",
       "    </tr>\n",
       "    <tr>\n",
       "      <th>7420</th>\n",
       "      <td>21</td>\n",
       "      <td>3</td>\n",
       "      <td>6</td>\n",
       "      <td>10</td>\n",
       "      <td>0</td>\n",
       "      <td>1</td>\n",
       "    </tr>\n",
       "    <tr>\n",
       "      <th>7421</th>\n",
       "      <td>25</td>\n",
       "      <td>5</td>\n",
       "      <td>5</td>\n",
       "      <td>2</td>\n",
       "      <td>0</td>\n",
       "      <td>0</td>\n",
       "    </tr>\n",
       "  </tbody>\n",
       "</table>\n",
       "<p>7422 rows × 6 columns</p>\n",
       "</div>"
      ],
      "text/plain": [
       "      Product_ID  Source  Sales_Agent  Location  Delivery_Mode  Status\n",
       "0             18       5            2        10              4       0\n",
       "1             18       5            1        10              4       0\n",
       "2             18       5            1        10              4       0\n",
       "3             18       5            1        10              4       0\n",
       "4             18       5            1        10              4       0\n",
       "...          ...     ...          ...       ...            ...     ...\n",
       "7417           9       0            8         9              3       1\n",
       "7418          15       0            3        10              4       1\n",
       "7419           5       4            2         1              0       1\n",
       "7420          21       3            6        10              0       1\n",
       "7421          25       5            5         2              0       0\n",
       "\n",
       "[7422 rows x 6 columns]"
      ]
     },
     "execution_count": 19,
     "metadata": {},
     "output_type": "execute_result"
    }
   ],
   "source": [
    "data"
   ]
  },
  {
   "cell_type": "raw",
   "id": "cf56fc11",
   "metadata": {},
   "source": [
    "Since all the features are categorical variables feature selection and outlier detection are not applicable."
   ]
  },
  {
   "cell_type": "markdown",
   "id": "c8519a4e",
   "metadata": {},
   "source": [
    "# Model Creation"
   ]
  },
  {
   "cell_type": "code",
   "execution_count": 20,
   "id": "a4617150",
   "metadata": {},
   "outputs": [],
   "source": [
    "x= data.drop('Status', axis=1)\n",
    "y= data.Status"
   ]
  },
  {
   "cell_type": "code",
   "execution_count": 132,
   "id": "522fa211",
   "metadata": {},
   "outputs": [
    {
     "data": {
      "text/plain": [
       "1    4492\n",
       "0    2930\n",
       "Name: Status, dtype: int64"
      ]
     },
     "execution_count": 132,
     "metadata": {},
     "output_type": "execute_result"
    }
   ],
   "source": [
    "data.Status.value_counts()"
   ]
  },
  {
   "cell_type": "code",
   "execution_count": 21,
   "id": "07db0f77",
   "metadata": {},
   "outputs": [
    {
     "data": {
      "text/plain": [
       "array([[ 3.36555312e-01,  1.06103069e+00, -1.40407038e+00,\n",
       "         9.79973938e-01,  1.08716971e+00],\n",
       "       [ 3.36555312e-01,  1.06103069e+00, -1.75530093e+00,\n",
       "         9.79973938e-01,  1.08716971e+00],\n",
       "       [ 3.36555312e-01,  1.06103069e+00, -1.75530093e+00,\n",
       "         9.79973938e-01,  1.08716971e+00],\n",
       "       ...,\n",
       "       [-1.81168998e+00,  5.85747343e-01, -1.40407038e+00,\n",
       "        -1.12242519e+00, -1.21266600e+00],\n",
       "       [ 8.32304227e-01,  1.10463996e-01,  8.51812162e-04,\n",
       "         9.79973938e-01, -1.21266600e+00],\n",
       "       [ 1.49330278e+00,  1.06103069e+00, -3.50378736e-01,\n",
       "        -8.88825283e-01, -1.21266600e+00]])"
      ]
     },
     "execution_count": 21,
     "metadata": {},
     "output_type": "execute_result"
    }
   ],
   "source": [
    "from sklearn.preprocessing import StandardScaler\n",
    "scaler = StandardScaler()\n",
    "x_scaled = scaler.fit_transform(x)\n",
    "x_scaled"
   ]
  },
  {
   "cell_type": "code",
   "execution_count": 22,
   "id": "81589fae",
   "metadata": {},
   "outputs": [],
   "source": [
    "from sklearn.model_selection import train_test_split\n",
    "x_train,x_test,y_train,y_test = train_test_split(x_scaled, y, test_size=0.3, random_state=42)"
   ]
  },
  {
   "cell_type": "code",
   "execution_count": 23,
   "id": "ba4b3083",
   "metadata": {},
   "outputs": [],
   "source": [
    "from imblearn.over_sampling import SMOTE\n",
    "smote=SMOTE()"
   ]
  },
  {
   "cell_type": "code",
   "execution_count": 24,
   "id": "ec90bdd8",
   "metadata": {},
   "outputs": [],
   "source": [
    "x_train_smote, y_train_smote = smote.fit_resample(x_train, y_train)"
   ]
  },
  {
   "cell_type": "code",
   "execution_count": 26,
   "id": "e8a28560",
   "metadata": {},
   "outputs": [
    {
     "name": "stdout",
     "output_type": "stream",
     "text": [
      "Before SMOTE: Counter({1: 3156, 0: 2039})\n",
      "After SMOTE: Counter({1: 3156, 0: 3156})\n"
     ]
    }
   ],
   "source": [
    "from collections import Counter\n",
    "print('Before SMOTE:', Counter(y_train))\n",
    "print('After SMOTE:', Counter(y_train_smote))"
   ]
  },
  {
   "cell_type": "raw",
   "id": "5d1b3363",
   "metadata": {},
   "source": [
    "Since we have classified the target variable into two categories we will use logistic regression algorithm. We are also using Support Vector machine, Decision Tree, Random Forest Regression and XGBoost. "
   ]
  },
  {
   "cell_type": "markdown",
   "id": "e20879e3",
   "metadata": {},
   "source": [
    "# 1. Logistic Regression"
   ]
  },
  {
   "cell_type": "code",
   "execution_count": 27,
   "id": "d6cf1604",
   "metadata": {},
   "outputs": [],
   "source": [
    "from sklearn.linear_model import LogisticRegression\n",
    "lr = LogisticRegression()\n",
    "lr.fit(x_train_smote, y_train_smote)\n",
    "lr_pred = lr.predict(x_test)"
   ]
  },
  {
   "cell_type": "code",
   "execution_count": 28,
   "id": "228287e3",
   "metadata": {},
   "outputs": [],
   "source": [
    "from sklearn.metrics import accuracy_score, classification_report, precision_score, recall_score, roc_auc_score"
   ]
  },
  {
   "cell_type": "code",
   "execution_count": 29,
   "id": "a972ea4d",
   "metadata": {},
   "outputs": [
    {
     "name": "stdout",
     "output_type": "stream",
     "text": [
      "0.6672653794342165\n",
      "              precision    recall  f1-score   support\n",
      "\n",
      "           0       0.57      0.68      0.62       891\n",
      "           1       0.76      0.66      0.70      1336\n",
      "\n",
      "    accuracy                           0.67      2227\n",
      "   macro avg       0.66      0.67      0.66      2227\n",
      "weighted avg       0.68      0.67      0.67      2227\n",
      "\n"
     ]
    }
   ],
   "source": [
    "lr_acc = accuracy_score(y_test, lr_pred)\n",
    "print(lr_acc)\n",
    "print(classification_report(y_test, lr_pred))"
   ]
  },
  {
   "cell_type": "markdown",
   "id": "07614d8e",
   "metadata": {},
   "source": [
    "# 2. Support Vector Machine"
   ]
  },
  {
   "cell_type": "code",
   "execution_count": 31,
   "id": "804574ee",
   "metadata": {},
   "outputs": [
    {
     "name": "stdout",
     "output_type": "stream",
     "text": [
      "0.6825325550067355\n",
      "              precision    recall  f1-score   support\n",
      "\n",
      "           0       0.58      0.75      0.65       891\n",
      "           1       0.79      0.64      0.71      1336\n",
      "\n",
      "    accuracy                           0.68      2227\n",
      "   macro avg       0.69      0.69      0.68      2227\n",
      "weighted avg       0.71      0.68      0.69      2227\n",
      "\n"
     ]
    }
   ],
   "source": [
    "from sklearn.svm import SVC\n",
    "svc=SVC()\n",
    "svc.fit(x_train_smote, y_train_smote)\n",
    "svc_pred = svc.predict(x_test)\n",
    "svc_acc = accuracy_score(y_test, svc_pred)\n",
    "print(svc_acc)\n",
    "print(classification_report(y_test, svc_pred))"
   ]
  },
  {
   "cell_type": "markdown",
   "id": "aa304e72",
   "metadata": {},
   "source": [
    "# 3. Random Forest Classifier"
   ]
  },
  {
   "cell_type": "code",
   "execution_count": 32,
   "id": "5c8d6445",
   "metadata": {},
   "outputs": [
    {
     "name": "stdout",
     "output_type": "stream",
     "text": [
      "0.699595868881904\n",
      "              precision    recall  f1-score   support\n",
      "\n",
      "           0       0.63      0.59      0.61       891\n",
      "           1       0.74      0.77      0.75      1336\n",
      "\n",
      "    accuracy                           0.70      2227\n",
      "   macro avg       0.69      0.68      0.68      2227\n",
      "weighted avg       0.70      0.70      0.70      2227\n",
      "\n"
     ]
    }
   ],
   "source": [
    "from sklearn.ensemble import RandomForestClassifier\n",
    "rf = RandomForestClassifier()\n",
    "rf.fit(x_train_smote, y_train_smote)\n",
    "rf_pred = rf.predict(x_test)\n",
    "print(accuracy_score(y_test, rf_pred))\n",
    "print(classification_report(y_test, rf_pred))"
   ]
  },
  {
   "cell_type": "markdown",
   "id": "b6b60e4c",
   "metadata": {},
   "source": [
    "# 4. Decision Tree"
   ]
  },
  {
   "cell_type": "code",
   "execution_count": 33,
   "id": "73111362",
   "metadata": {},
   "outputs": [
    {
     "name": "stdout",
     "output_type": "stream",
     "text": [
      "0.690166142792995\n",
      "              precision    recall  f1-score   support\n",
      "\n",
      "           0       0.61      0.62      0.62       891\n",
      "           1       0.74      0.74      0.74      1336\n",
      "\n",
      "    accuracy                           0.69      2227\n",
      "   macro avg       0.68      0.68      0.68      2227\n",
      "weighted avg       0.69      0.69      0.69      2227\n",
      "\n"
     ]
    }
   ],
   "source": [
    "from sklearn.tree import DecisionTreeClassifier\n",
    "dt = DecisionTreeClassifier()\n",
    "dt.fit(x_train_smote, y_train_smote)\n",
    "dt_pred = dt.predict(x_test)\n",
    "print(accuracy_score(y_test,dt_pred))\n",
    "print(classification_report(y_test,dt_pred))"
   ]
  },
  {
   "cell_type": "markdown",
   "id": "72bc7ba9",
   "metadata": {},
   "source": [
    "# 5. XGBoost Classifier"
   ]
  },
  {
   "cell_type": "code",
   "execution_count": 36,
   "id": "1a916ea4",
   "metadata": {},
   "outputs": [
    {
     "name": "stdout",
     "output_type": "stream",
     "text": [
      "0.7108217332734621\n",
      "              precision    recall  f1-score   support\n",
      "\n",
      "           0       0.64      0.62      0.63       891\n",
      "           1       0.75      0.77      0.76      1336\n",
      "\n",
      "    accuracy                           0.71      2227\n",
      "   macro avg       0.70      0.70      0.70      2227\n",
      "weighted avg       0.71      0.71      0.71      2227\n",
      "\n"
     ]
    }
   ],
   "source": [
    "from xgboost import XGBClassifier\n",
    "xgb = XGBClassifier()\n",
    "xgb.fit(x_train_smote, y_train_smote)\n",
    "xgb_pred = xgb.predict(x_test)\n",
    "print(accuracy_score(y_test,xgb_pred))\n",
    "print(classification_report(y_test, xgb_pred))"
   ]
  },
  {
   "cell_type": "raw",
   "id": "f59b0136",
   "metadata": {},
   "source": [
    "We will use hyperparameter tuning for increasing the accuracy of the models. Finally we will make conclusion based on the accuracy score of the models."
   ]
  },
  {
   "cell_type": "markdown",
   "id": "8fd96b2a",
   "metadata": {},
   "source": [
    "# Hyperparameter Tuning"
   ]
  },
  {
   "cell_type": "markdown",
   "id": "6208aa57",
   "metadata": {},
   "source": [
    "# 1. SVM"
   ]
  },
  {
   "cell_type": "code",
   "execution_count": 38,
   "id": "0202b4fa",
   "metadata": {},
   "outputs": [],
   "source": [
    "from sklearn.model_selection import GridSearchCV"
   ]
  },
  {
   "cell_type": "code",
   "execution_count": 40,
   "id": "80180608",
   "metadata": {},
   "outputs": [
    {
     "name": "stdout",
     "output_type": "stream",
     "text": [
      "Best parameter:  {'C': 1000, 'gamma': 1}\n"
     ]
    }
   ],
   "source": [
    "grid = {'C':[0.1,1,10,100,1000],'gamma':[1,0.1,0.01,0.001,0.0001]}\n",
    "svc_search = GridSearchCV(estimator=svc,param_grid=grid, cv=5, n_jobs=-1, scoring='accuracy')\n",
    "svc_search.fit(x_train_smote,y_train_smote)\n",
    "best_param = svc_search.best_params_\n",
    "print('Best parameter: ', best_param)"
   ]
  },
  {
   "cell_type": "code",
   "execution_count": 47,
   "id": "f7850404",
   "metadata": {},
   "outputs": [
    {
     "name": "stdout",
     "output_type": "stream",
     "text": [
      "              precision    recall  f1-score   support\n",
      "\n",
      "           0       0.59      0.65      0.62       891\n",
      "           1       0.75      0.70      0.73      1336\n",
      "\n",
      "    accuracy                           0.68      2227\n",
      "   macro avg       0.67      0.68      0.67      2227\n",
      "weighted avg       0.69      0.68      0.68      2227\n",
      "\n",
      "col_0     0    1\n",
      "Status          \n",
      "0       581  310\n",
      "1       397  939\n"
     ]
    }
   ],
   "source": [
    "svc_hp=SVC(C=1000, gamma=1)\n",
    "svc_hp.fit(x_train_smote, y_train_smote)\n",
    "y_hat_svc = svc_hp.predict(x_test)\n",
    "svc_hp_acc= accuracy_score(y_test, y_hat_svc)\n",
    "print(classification_report(y_test, y_hat_svc))\n",
    "print(pd.crosstab(y_test, y_hat_svc))"
   ]
  },
  {
   "cell_type": "markdown",
   "id": "055f13b0",
   "metadata": {},
   "source": [
    "# 2. Decision Tree"
   ]
  },
  {
   "cell_type": "code",
   "execution_count": 41,
   "id": "60a8215e",
   "metadata": {},
   "outputs": [
    {
     "name": "stdout",
     "output_type": "stream",
     "text": [
      "Best parameter:  {'max_depth': 18, 'min_samples_leaf': 11, 'min_samples_split': 3, 'splitter': 'best'}\n"
     ]
    }
   ],
   "source": [
    "params = {\"splitter\":(\"best\", \"random\"), \n",
    "    \"max_depth\":(list(range(1, 20))),\n",
    "    \"min_samples_split\":[2, 3, 4],   \n",
    "    \"min_samples_leaf\":list(range(1, 20)),}\n",
    "tree_search = GridSearchCV(estimator=dt, param_grid=params, cv=5, scoring='accuracy', n_jobs=-1)\n",
    "tree_search.fit(x_train,y_train)\n",
    "best_param = tree_search.best_params_\n",
    "print('Best parameter: ', best_param)"
   ]
  },
  {
   "cell_type": "code",
   "execution_count": 48,
   "id": "065fafa2",
   "metadata": {},
   "outputs": [
    {
     "name": "stdout",
     "output_type": "stream",
     "text": [
      "              precision    recall  f1-score   support\n",
      "\n",
      "           0       0.60      0.61      0.61       891\n",
      "           1       0.74      0.73      0.73      1336\n",
      "\n",
      "    accuracy                           0.68      2227\n",
      "   macro avg       0.67      0.67      0.67      2227\n",
      "weighted avg       0.68      0.68      0.68      2227\n",
      "\n",
      "col_0     0    1\n",
      "Status          \n",
      "0       546  345\n",
      "1       364  972\n"
     ]
    }
   ],
   "source": [
    "dt_hp = DecisionTreeClassifier(max_depth=18, min_samples_leaf=11, min_samples_split=3, splitter='best')\n",
    "dt_hp.fit(x_train_smote, y_train_smote)\n",
    "y_hat_dt = dt_hp.predict(x_test)\n",
    "dt_hp_acc= accuracy_score(y_test, y_hat_dt)\n",
    "print(classification_report(y_test, y_hat_dt))\n",
    "print(pd.crosstab(y_test, y_hat_dt))"
   ]
  },
  {
   "cell_type": "markdown",
   "id": "d68cdfed",
   "metadata": {},
   "source": [
    "# 3. Random Forest"
   ]
  },
  {
   "cell_type": "code",
   "execution_count": 42,
   "id": "e52ad216",
   "metadata": {},
   "outputs": [],
   "source": [
    "n_estimators = [int(x) for x in np.linspace(start=10, stop=80, num=10)]\n",
    "max_features = ['auto', 'sqrt']\n",
    "max_depth = [2,4]\n",
    "min_samples_split = [2,5]\n",
    "min_samples_leaf=[1,2]\n",
    "bootstrap = [True, False]\n",
    "\n",
    "grid = {'n_estimators':n_estimators, \n",
    "        'max_features':max_features, \n",
    "        'max_depth':max_depth, 'min_samples_split':min_samples_split, \n",
    "        'min_samples_leaf':min_samples_leaf, \n",
    "        'bootstrap':bootstrap}"
   ]
  },
  {
   "cell_type": "code",
   "execution_count": 44,
   "id": "9bba11c5",
   "metadata": {},
   "outputs": [
    {
     "name": "stdout",
     "output_type": "stream",
     "text": [
      "Best parameter:  {'bootstrap': True, 'max_depth': 4, 'max_features': 'auto', 'min_samples_leaf': 2, 'min_samples_split': 5, 'n_estimators': 25}\n"
     ]
    },
    {
     "name": "stderr",
     "output_type": "stream",
     "text": [
      "C:\\Users\\theertha\\anaconda3\\lib\\site-packages\\sklearn\\ensemble\\_forest.py:427: FutureWarning: `max_features='auto'` has been deprecated in 1.1 and will be removed in 1.3. To keep the past behaviour, explicitly set `max_features='sqrt'` or remove this parameter as it is also the default value for RandomForestClassifiers and ExtraTreesClassifiers.\n",
      "  warn(\n"
     ]
    }
   ],
   "source": [
    "random_search = GridSearchCV(estimator=rf, param_grid=grid, cv=5, scoring='accuracy', n_jobs=-1)\n",
    "random_search.fit(x_train, y_train)\n",
    "best_param = random_search.best_params_\n",
    "print('Best parameter: ', best_param)"
   ]
  },
  {
   "cell_type": "code",
   "execution_count": 58,
   "id": "dfffd6d8",
   "metadata": {},
   "outputs": [
    {
     "name": "stdout",
     "output_type": "stream",
     "text": [
      "0.7045352492141895\n",
      "              precision    recall  f1-score   support\n",
      "\n",
      "           0       0.61      0.71      0.66       891\n",
      "           1       0.78      0.70      0.74      1336\n",
      "\n",
      "    accuracy                           0.70      2227\n",
      "   macro avg       0.70      0.70      0.70      2227\n",
      "weighted avg       0.71      0.70      0.71      2227\n",
      "\n",
      "col_0     0    1\n",
      "Status          \n",
      "0       630  261\n",
      "1       397  939\n"
     ]
    },
    {
     "name": "stderr",
     "output_type": "stream",
     "text": [
      "C:\\Users\\theertha\\anaconda3\\lib\\site-packages\\sklearn\\ensemble\\_forest.py:427: FutureWarning: `max_features='auto'` has been deprecated in 1.1 and will be removed in 1.3. To keep the past behaviour, explicitly set `max_features='sqrt'` or remove this parameter as it is also the default value for RandomForestClassifiers and ExtraTreesClassifiers.\n",
      "  warn(\n"
     ]
    }
   ],
   "source": [
    "rf_hp = RandomForestClassifier(bootstrap=True, max_depth=4, max_features='auto', min_samples_leaf=2, min_samples_split=5, n_estimators=25)\n",
    "rf_hp.fit(x_train_smote, y_train_smote)\n",
    "y_hat_rf= rf_hp.predict(x_test)\n",
    "rf_hp_acc = accuracy_score(y_test, y_hat_rf)\n",
    "print(rf_hp_acc)\n",
    "print(classification_report(y_test, y_hat_rf))\n",
    "print(pd.crosstab(y_test, y_hat_rf))"
   ]
  },
  {
   "cell_type": "markdown",
   "id": "7d8a385d",
   "metadata": {},
   "source": [
    "# 4. XGBoost"
   ]
  },
  {
   "cell_type": "code",
   "execution_count": 52,
   "id": "139649b9",
   "metadata": {},
   "outputs": [],
   "source": [
    "max_depth = list(range(1,20))\n",
    "learning_rate = [1,0.1,0.01,0.001]\n",
    "min_child_weight = list(range(1,10))\n",
    "n_estimators = [int(x) for x in np.linspace(start=10, stop=100, num=1)]\n",
    "\n",
    "grid = {'n_estimators':n_estimators,  \n",
    "        'max_depth':max_depth, 'min_child_weight':min_child_weight, \n",
    "        'learning_rate':learning_rate}"
   ]
  },
  {
   "cell_type": "code",
   "execution_count": 53,
   "id": "28f16e35",
   "metadata": {},
   "outputs": [
    {
     "name": "stdout",
     "output_type": "stream",
     "text": [
      "Best parameter:  {'learning_rate': 1, 'max_depth': 8, 'min_child_weight': 1, 'n_estimators': 10}\n"
     ]
    }
   ],
   "source": [
    "xgb_search = GridSearchCV(estimator=xgb, param_grid=grid, cv=5, scoring='accuracy', n_jobs=-1)\n",
    "xgb_search.fit(x_train_smote, y_train_smote)\n",
    "best_param = xgb_search.best_params_\n",
    "print('Best parameter: ', best_param)"
   ]
  },
  {
   "cell_type": "code",
   "execution_count": 57,
   "id": "801322a1",
   "metadata": {},
   "outputs": [
    {
     "name": "stdout",
     "output_type": "stream",
     "text": [
      "0.7081275258194881\n",
      "              precision    recall  f1-score   support\n",
      "\n",
      "           0       0.64      0.62      0.63       891\n",
      "           1       0.75      0.77      0.76      1336\n",
      "\n",
      "    accuracy                           0.71      2227\n",
      "   macro avg       0.70      0.69      0.69      2227\n",
      "weighted avg       0.71      0.71      0.71      2227\n",
      "\n",
      "col_0     0     1\n",
      "Status           \n",
      "0       551   340\n",
      "1       310  1026\n"
     ]
    }
   ],
   "source": [
    "xgb_hp = XGBClassifier(learning_rate=1, max_depth = 8, min_child_weight=1, n_estimators=10)\n",
    "xgb_hp.fit(x_train_smote, y_train_smote)\n",
    "y_hat_xgb= xgb_hp.predict(x_test)\n",
    "xgb_hp_acc = accuracy_score(y_test, y_hat_xgb)\n",
    "print(xgb_hp_acc)\n",
    "print(classification_report(y_test, y_hat_xgb))\n",
    "print(pd.crosstab(y_test, y_hat_xgb))"
   ]
  },
  {
   "cell_type": "markdown",
   "id": "77bd5653",
   "metadata": {},
   "source": [
    "# Model Comparison"
   ]
  },
  {
   "cell_type": "code",
   "execution_count": 63,
   "id": "c4fc0add",
   "metadata": {},
   "outputs": [
    {
     "name": "stdout",
     "output_type": "stream",
     "text": [
      "                     accuracy_score\n",
      "Logistic Regression        0.667265\n",
      "SVC                        0.682533\n",
      "Decison Tree               0.681634\n",
      "Random Forest              0.704535\n",
      "XGBoost                    0.708128\n"
     ]
    }
   ],
   "source": [
    "model = {'Logistic Regression':lr_acc, 'SVC': svc_hp_acc, 'Decison Tree':dt_hp_acc, \n",
    "         'Random Forest':rf_hp_acc, 'XGBoost':xgb_hp_acc}\n",
    "model_df = pd.DataFrame.from_dict(model, orient='index')\n",
    "model_df.columns = ['accuracy_score']\n",
    "print(model_df)"
   ]
  },
  {
   "cell_type": "code",
   "execution_count": null,
   "id": "28097a51",
   "metadata": {},
   "outputs": [],
   "source": [
    "Totally we have used 5 models.\n",
    "Logistic Regression\n",
    "Support Vector Classifier\n",
    "Decision Tree\n",
    "Random Forest Classifier\n",
    "XGBoost Classifier\n",
    "\n",
    "All the 5 models have almost same accuracy score value before and after hyperparameter tuning.\n",
    "The model with highest accuracy score is XGBoost, hence we suggest XGBoost as the best model for prediction."
   ]
  },
  {
   "cell_type": "markdown",
   "id": "22991761",
   "metadata": {},
   "source": [
    "# Conclusion"
   ]
  },
  {
   "cell_type": "raw",
   "id": "8c7bb0af",
   "metadata": {},
   "source": [
    "From the EDA analysis it is very clear that the conversion rates are very low. That is the number of low potential customers are higher than the high potential customers.\n",
    "The sales agents can be given training to increase the potential customers.\n",
    "campaings can be promoted to make the customers aware of the products.\n",
    "The company has given more focus on markets within India. Since the agents will be well aware of market and customers of their local area, the sales agents can be assigned the regions accordingly."
   ]
  },
  {
   "cell_type": "markdown",
   "id": "80a547b2",
   "metadata": {},
   "source": [
    "# Challenge Report"
   ]
  },
  {
   "cell_type": "raw",
   "id": "eca85ae2",
   "metadata": {},
   "source": [
    "The data was downloaded from MYSQL. The dataset was difficult to organize, hence used delimit feature in excel to arrange the data properly.\n"
   ]
  }
 ],
 "metadata": {
  "kernelspec": {
   "display_name": "Python 3 (ipykernel)",
   "language": "python",
   "name": "python3"
  },
  "language_info": {
   "codemirror_mode": {
    "name": "ipython",
    "version": 3
   },
   "file_extension": ".py",
   "mimetype": "text/x-python",
   "name": "python",
   "nbconvert_exporter": "python",
   "pygments_lexer": "ipython3",
   "version": "3.9.12"
  }
 },
 "nbformat": 4,
 "nbformat_minor": 5
}
